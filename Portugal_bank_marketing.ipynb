{
  "nbformat": 4,
  "nbformat_minor": 0,
  "metadata": {
    "colab": {
      "name": "Portugal bank marketing.ipynb",
      "provenance": [],
      "collapsed_sections": []
    },
    "kernelspec": {
      "name": "python3",
      "display_name": "Python 3"
    },
    "language_info": {
      "name": "python"
    }
  },
  "cells": [
    {
      "cell_type": "markdown",
      "source": [
        "# **Portugal bank marketing**\n",
        "\n",
        "---\n",
        "\n",
        "\n",
        "***To predict whether a client has subscribed a term deposit or not.***"
      ],
      "metadata": {
        "id": "hth5U6JH7cx_"
      }
    },
    {
      "cell_type": "markdown",
      "source": [
        "## **Reading the dataset**\n",
        "All the required libraries are imported"
      ],
      "metadata": {
        "id": "UAWx5v048OaP"
      }
    },
    {
      "cell_type": "code",
      "execution_count": null,
      "metadata": {
        "id": "YNydzZU96gAL"
      },
      "outputs": [],
      "source": [
        "import numpy as np\n",
        "import pandas as pd\n",
        "import seaborn as sns\n",
        "\n",
        "from sklearn.model_selection import train_test_split\n",
        "from sklearn import metrics\n",
        "import matplotlib.pyplot as plt"
      ]
    },
    {
      "cell_type": "code",
      "source": [
        "df=pd.read_csv('bank.csv',sep=\";\")\n",
        "# After reading the dataset, let’s check its top 5 rows using head() method to just see how the data looks.\n",
        "df.head()"
      ],
      "metadata": {
        "colab": {
          "base_uri": "https://localhost:8080/",
          "height": 300
        },
        "id": "CfJjwpde8TIK",
        "outputId": "af7abc31-a82e-4bad-87e4-dd5a528aba64"
      },
      "execution_count": null,
      "outputs": [
        {
          "output_type": "execute_result",
          "data": {
            "text/plain": [
              "   age        job  marital    education  default housing loan    contact  \\\n",
              "0   56  housemaid  married     basic.4y       no      no   no  telephone   \n",
              "1   57   services  married  high.school  unknown      no   no  telephone   \n",
              "2   37   services  married  high.school       no     yes   no  telephone   \n",
              "3   40     admin.  married     basic.6y       no      no   no  telephone   \n",
              "4   56   services  married  high.school       no      no  yes  telephone   \n",
              "\n",
              "  month day_of_week  ...  campaign  pdays  previous     poutcome emp.var.rate  \\\n",
              "0   may         mon  ...         1    999         0  nonexistent          1.1   \n",
              "1   may         mon  ...         1    999         0  nonexistent          1.1   \n",
              "2   may         mon  ...         1    999         0  nonexistent          1.1   \n",
              "3   may         mon  ...         1    999         0  nonexistent          1.1   \n",
              "4   may         mon  ...         1    999         0  nonexistent          1.1   \n",
              "\n",
              "   cons.price.idx  cons.conf.idx  euribor3m  nr.employed   y  \n",
              "0          93.994          -36.4      4.857       5191.0  no  \n",
              "1          93.994          -36.4      4.857       5191.0  no  \n",
              "2          93.994          -36.4      4.857       5191.0  no  \n",
              "3          93.994          -36.4      4.857       5191.0  no  \n",
              "4          93.994          -36.4      4.857       5191.0  no  \n",
              "\n",
              "[5 rows x 21 columns]"
            ],
            "text/html": [
              "\n",
              "  <div id=\"df-5e8d3d16-3205-427d-93f1-332c7d204ada\">\n",
              "    <div class=\"colab-df-container\">\n",
              "      <div>\n",
              "<style scoped>\n",
              "    .dataframe tbody tr th:only-of-type {\n",
              "        vertical-align: middle;\n",
              "    }\n",
              "\n",
              "    .dataframe tbody tr th {\n",
              "        vertical-align: top;\n",
              "    }\n",
              "\n",
              "    .dataframe thead th {\n",
              "        text-align: right;\n",
              "    }\n",
              "</style>\n",
              "<table border=\"1\" class=\"dataframe\">\n",
              "  <thead>\n",
              "    <tr style=\"text-align: right;\">\n",
              "      <th></th>\n",
              "      <th>age</th>\n",
              "      <th>job</th>\n",
              "      <th>marital</th>\n",
              "      <th>education</th>\n",
              "      <th>default</th>\n",
              "      <th>housing</th>\n",
              "      <th>loan</th>\n",
              "      <th>contact</th>\n",
              "      <th>month</th>\n",
              "      <th>day_of_week</th>\n",
              "      <th>...</th>\n",
              "      <th>campaign</th>\n",
              "      <th>pdays</th>\n",
              "      <th>previous</th>\n",
              "      <th>poutcome</th>\n",
              "      <th>emp.var.rate</th>\n",
              "      <th>cons.price.idx</th>\n",
              "      <th>cons.conf.idx</th>\n",
              "      <th>euribor3m</th>\n",
              "      <th>nr.employed</th>\n",
              "      <th>y</th>\n",
              "    </tr>\n",
              "  </thead>\n",
              "  <tbody>\n",
              "    <tr>\n",
              "      <th>0</th>\n",
              "      <td>56</td>\n",
              "      <td>housemaid</td>\n",
              "      <td>married</td>\n",
              "      <td>basic.4y</td>\n",
              "      <td>no</td>\n",
              "      <td>no</td>\n",
              "      <td>no</td>\n",
              "      <td>telephone</td>\n",
              "      <td>may</td>\n",
              "      <td>mon</td>\n",
              "      <td>...</td>\n",
              "      <td>1</td>\n",
              "      <td>999</td>\n",
              "      <td>0</td>\n",
              "      <td>nonexistent</td>\n",
              "      <td>1.1</td>\n",
              "      <td>93.994</td>\n",
              "      <td>-36.4</td>\n",
              "      <td>4.857</td>\n",
              "      <td>5191.0</td>\n",
              "      <td>no</td>\n",
              "    </tr>\n",
              "    <tr>\n",
              "      <th>1</th>\n",
              "      <td>57</td>\n",
              "      <td>services</td>\n",
              "      <td>married</td>\n",
              "      <td>high.school</td>\n",
              "      <td>unknown</td>\n",
              "      <td>no</td>\n",
              "      <td>no</td>\n",
              "      <td>telephone</td>\n",
              "      <td>may</td>\n",
              "      <td>mon</td>\n",
              "      <td>...</td>\n",
              "      <td>1</td>\n",
              "      <td>999</td>\n",
              "      <td>0</td>\n",
              "      <td>nonexistent</td>\n",
              "      <td>1.1</td>\n",
              "      <td>93.994</td>\n",
              "      <td>-36.4</td>\n",
              "      <td>4.857</td>\n",
              "      <td>5191.0</td>\n",
              "      <td>no</td>\n",
              "    </tr>\n",
              "    <tr>\n",
              "      <th>2</th>\n",
              "      <td>37</td>\n",
              "      <td>services</td>\n",
              "      <td>married</td>\n",
              "      <td>high.school</td>\n",
              "      <td>no</td>\n",
              "      <td>yes</td>\n",
              "      <td>no</td>\n",
              "      <td>telephone</td>\n",
              "      <td>may</td>\n",
              "      <td>mon</td>\n",
              "      <td>...</td>\n",
              "      <td>1</td>\n",
              "      <td>999</td>\n",
              "      <td>0</td>\n",
              "      <td>nonexistent</td>\n",
              "      <td>1.1</td>\n",
              "      <td>93.994</td>\n",
              "      <td>-36.4</td>\n",
              "      <td>4.857</td>\n",
              "      <td>5191.0</td>\n",
              "      <td>no</td>\n",
              "    </tr>\n",
              "    <tr>\n",
              "      <th>3</th>\n",
              "      <td>40</td>\n",
              "      <td>admin.</td>\n",
              "      <td>married</td>\n",
              "      <td>basic.6y</td>\n",
              "      <td>no</td>\n",
              "      <td>no</td>\n",
              "      <td>no</td>\n",
              "      <td>telephone</td>\n",
              "      <td>may</td>\n",
              "      <td>mon</td>\n",
              "      <td>...</td>\n",
              "      <td>1</td>\n",
              "      <td>999</td>\n",
              "      <td>0</td>\n",
              "      <td>nonexistent</td>\n",
              "      <td>1.1</td>\n",
              "      <td>93.994</td>\n",
              "      <td>-36.4</td>\n",
              "      <td>4.857</td>\n",
              "      <td>5191.0</td>\n",
              "      <td>no</td>\n",
              "    </tr>\n",
              "    <tr>\n",
              "      <th>4</th>\n",
              "      <td>56</td>\n",
              "      <td>services</td>\n",
              "      <td>married</td>\n",
              "      <td>high.school</td>\n",
              "      <td>no</td>\n",
              "      <td>no</td>\n",
              "      <td>yes</td>\n",
              "      <td>telephone</td>\n",
              "      <td>may</td>\n",
              "      <td>mon</td>\n",
              "      <td>...</td>\n",
              "      <td>1</td>\n",
              "      <td>999</td>\n",
              "      <td>0</td>\n",
              "      <td>nonexistent</td>\n",
              "      <td>1.1</td>\n",
              "      <td>93.994</td>\n",
              "      <td>-36.4</td>\n",
              "      <td>4.857</td>\n",
              "      <td>5191.0</td>\n",
              "      <td>no</td>\n",
              "    </tr>\n",
              "  </tbody>\n",
              "</table>\n",
              "<p>5 rows × 21 columns</p>\n",
              "</div>\n",
              "      <button class=\"colab-df-convert\" onclick=\"convertToInteractive('df-5e8d3d16-3205-427d-93f1-332c7d204ada')\"\n",
              "              title=\"Convert this dataframe to an interactive table.\"\n",
              "              style=\"display:none;\">\n",
              "        \n",
              "  <svg xmlns=\"http://www.w3.org/2000/svg\" height=\"24px\"viewBox=\"0 0 24 24\"\n",
              "       width=\"24px\">\n",
              "    <path d=\"M0 0h24v24H0V0z\" fill=\"none\"/>\n",
              "    <path d=\"M18.56 5.44l.94 2.06.94-2.06 2.06-.94-2.06-.94-.94-2.06-.94 2.06-2.06.94zm-11 1L8.5 8.5l.94-2.06 2.06-.94-2.06-.94L8.5 2.5l-.94 2.06-2.06.94zm10 10l.94 2.06.94-2.06 2.06-.94-2.06-.94-.94-2.06-.94 2.06-2.06.94z\"/><path d=\"M17.41 7.96l-1.37-1.37c-.4-.4-.92-.59-1.43-.59-.52 0-1.04.2-1.43.59L10.3 9.45l-7.72 7.72c-.78.78-.78 2.05 0 2.83L4 21.41c.39.39.9.59 1.41.59.51 0 1.02-.2 1.41-.59l7.78-7.78 2.81-2.81c.8-.78.8-2.07 0-2.86zM5.41 20L4 18.59l7.72-7.72 1.47 1.35L5.41 20z\"/>\n",
              "  </svg>\n",
              "      </button>\n",
              "      \n",
              "  <style>\n",
              "    .colab-df-container {\n",
              "      display:flex;\n",
              "      flex-wrap:wrap;\n",
              "      gap: 12px;\n",
              "    }\n",
              "\n",
              "    .colab-df-convert {\n",
              "      background-color: #E8F0FE;\n",
              "      border: none;\n",
              "      border-radius: 50%;\n",
              "      cursor: pointer;\n",
              "      display: none;\n",
              "      fill: #1967D2;\n",
              "      height: 32px;\n",
              "      padding: 0 0 0 0;\n",
              "      width: 32px;\n",
              "    }\n",
              "\n",
              "    .colab-df-convert:hover {\n",
              "      background-color: #E2EBFA;\n",
              "      box-shadow: 0px 1px 2px rgba(60, 64, 67, 0.3), 0px 1px 3px 1px rgba(60, 64, 67, 0.15);\n",
              "      fill: #174EA6;\n",
              "    }\n",
              "\n",
              "    [theme=dark] .colab-df-convert {\n",
              "      background-color: #3B4455;\n",
              "      fill: #D2E3FC;\n",
              "    }\n",
              "\n",
              "    [theme=dark] .colab-df-convert:hover {\n",
              "      background-color: #434B5C;\n",
              "      box-shadow: 0px 1px 3px 1px rgba(0, 0, 0, 0.15);\n",
              "      filter: drop-shadow(0px 1px 2px rgba(0, 0, 0, 0.3));\n",
              "      fill: #FFFFFF;\n",
              "    }\n",
              "  </style>\n",
              "\n",
              "      <script>\n",
              "        const buttonEl =\n",
              "          document.querySelector('#df-5e8d3d16-3205-427d-93f1-332c7d204ada button.colab-df-convert');\n",
              "        buttonEl.style.display =\n",
              "          google.colab.kernel.accessAllowed ? 'block' : 'none';\n",
              "\n",
              "        async function convertToInteractive(key) {\n",
              "          const element = document.querySelector('#df-5e8d3d16-3205-427d-93f1-332c7d204ada');\n",
              "          const dataTable =\n",
              "            await google.colab.kernel.invokeFunction('convertToInteractive',\n",
              "                                                     [key], {});\n",
              "          if (!dataTable) return;\n",
              "\n",
              "          const docLinkHtml = 'Like what you see? Visit the ' +\n",
              "            '<a target=\"_blank\" href=https://colab.research.google.com/notebooks/data_table.ipynb>data table notebook</a>'\n",
              "            + ' to learn more about interactive tables.';\n",
              "          element.innerHTML = '';\n",
              "          dataTable['output_type'] = 'display_data';\n",
              "          await google.colab.output.renderOutput(dataTable, element);\n",
              "          const docLink = document.createElement('div');\n",
              "          docLink.innerHTML = docLinkHtml;\n",
              "          element.appendChild(docLink);\n",
              "        }\n",
              "      </script>\n",
              "    </div>\n",
              "  </div>\n",
              "  "
            ]
          },
          "metadata": {},
          "execution_count": 2
        }
      ]
    },
    {
      "cell_type": "code",
      "source": [
        "# Checking the shape of the dataset\n",
        "df.shape"
      ],
      "metadata": {
        "colab": {
          "base_uri": "https://localhost:8080/"
        },
        "id": "mR5aX6OG88v_",
        "outputId": "2afd4430-d274-4802-930e-5e833187ff20"
      },
      "execution_count": null,
      "outputs": [
        {
          "output_type": "execute_result",
          "data": {
            "text/plain": [
              "(41188, 21)"
            ]
          },
          "metadata": {},
          "execution_count": 3
        }
      ]
    },
    {
      "cell_type": "code",
      "source": [
        "df.isnull().sum()"
      ],
      "metadata": {
        "colab": {
          "base_uri": "https://localhost:8080/"
        },
        "id": "Ymld4DiD8_QW",
        "outputId": "1b35df62-ab10-46b1-f9e9-db22df0d0f34"
      },
      "execution_count": null,
      "outputs": [
        {
          "output_type": "execute_result",
          "data": {
            "text/plain": [
              "age               0\n",
              "job               0\n",
              "marital           0\n",
              "education         0\n",
              "default           0\n",
              "housing           0\n",
              "loan              0\n",
              "contact           0\n",
              "month             0\n",
              "day_of_week       0\n",
              "duration          0\n",
              "campaign          0\n",
              "pdays             0\n",
              "previous          0\n",
              "poutcome          0\n",
              "emp.var.rate      0\n",
              "cons.price.idx    0\n",
              "cons.conf.idx     0\n",
              "euribor3m         0\n",
              "nr.employed       0\n",
              "y                 0\n",
              "dtype: int64"
            ]
          },
          "metadata": {},
          "execution_count": 4
        }
      ]
    },
    {
      "cell_type": "code",
      "source": [
        "df.describe() # get statistics value in each columns"
      ],
      "metadata": {
        "colab": {
          "base_uri": "https://localhost:8080/",
          "height": 300
        },
        "id": "Lw0CAVT99AXu",
        "outputId": "45b87bb5-e121-4c36-99cb-5175e807c50c"
      },
      "execution_count": null,
      "outputs": [
        {
          "output_type": "execute_result",
          "data": {
            "text/plain": [
              "               age      duration      campaign         pdays      previous  \\\n",
              "count  41188.00000  41188.000000  41188.000000  41188.000000  41188.000000   \n",
              "mean      40.02406    258.285010      2.567593    962.475454      0.172963   \n",
              "std       10.42125    259.279249      2.770014    186.910907      0.494901   \n",
              "min       17.00000      0.000000      1.000000      0.000000      0.000000   \n",
              "25%       32.00000    102.000000      1.000000    999.000000      0.000000   \n",
              "50%       38.00000    180.000000      2.000000    999.000000      0.000000   \n",
              "75%       47.00000    319.000000      3.000000    999.000000      0.000000   \n",
              "max       98.00000   4918.000000     56.000000    999.000000      7.000000   \n",
              "\n",
              "       emp.var.rate  cons.price.idx  cons.conf.idx     euribor3m   nr.employed  \n",
              "count  41188.000000    41188.000000   41188.000000  41188.000000  41188.000000  \n",
              "mean       0.081886       93.575664     -40.502600      3.621291   5167.035911  \n",
              "std        1.570960        0.578840       4.628198      1.734447     72.251528  \n",
              "min       -3.400000       92.201000     -50.800000      0.634000   4963.600000  \n",
              "25%       -1.800000       93.075000     -42.700000      1.344000   5099.100000  \n",
              "50%        1.100000       93.749000     -41.800000      4.857000   5191.000000  \n",
              "75%        1.400000       93.994000     -36.400000      4.961000   5228.100000  \n",
              "max        1.400000       94.767000     -26.900000      5.045000   5228.100000  "
            ],
            "text/html": [
              "\n",
              "  <div id=\"df-40d934ce-66d9-47fc-85a5-2c9c8951fdc3\">\n",
              "    <div class=\"colab-df-container\">\n",
              "      <div>\n",
              "<style scoped>\n",
              "    .dataframe tbody tr th:only-of-type {\n",
              "        vertical-align: middle;\n",
              "    }\n",
              "\n",
              "    .dataframe tbody tr th {\n",
              "        vertical-align: top;\n",
              "    }\n",
              "\n",
              "    .dataframe thead th {\n",
              "        text-align: right;\n",
              "    }\n",
              "</style>\n",
              "<table border=\"1\" class=\"dataframe\">\n",
              "  <thead>\n",
              "    <tr style=\"text-align: right;\">\n",
              "      <th></th>\n",
              "      <th>age</th>\n",
              "      <th>duration</th>\n",
              "      <th>campaign</th>\n",
              "      <th>pdays</th>\n",
              "      <th>previous</th>\n",
              "      <th>emp.var.rate</th>\n",
              "      <th>cons.price.idx</th>\n",
              "      <th>cons.conf.idx</th>\n",
              "      <th>euribor3m</th>\n",
              "      <th>nr.employed</th>\n",
              "    </tr>\n",
              "  </thead>\n",
              "  <tbody>\n",
              "    <tr>\n",
              "      <th>count</th>\n",
              "      <td>41188.00000</td>\n",
              "      <td>41188.000000</td>\n",
              "      <td>41188.000000</td>\n",
              "      <td>41188.000000</td>\n",
              "      <td>41188.000000</td>\n",
              "      <td>41188.000000</td>\n",
              "      <td>41188.000000</td>\n",
              "      <td>41188.000000</td>\n",
              "      <td>41188.000000</td>\n",
              "      <td>41188.000000</td>\n",
              "    </tr>\n",
              "    <tr>\n",
              "      <th>mean</th>\n",
              "      <td>40.02406</td>\n",
              "      <td>258.285010</td>\n",
              "      <td>2.567593</td>\n",
              "      <td>962.475454</td>\n",
              "      <td>0.172963</td>\n",
              "      <td>0.081886</td>\n",
              "      <td>93.575664</td>\n",
              "      <td>-40.502600</td>\n",
              "      <td>3.621291</td>\n",
              "      <td>5167.035911</td>\n",
              "    </tr>\n",
              "    <tr>\n",
              "      <th>std</th>\n",
              "      <td>10.42125</td>\n",
              "      <td>259.279249</td>\n",
              "      <td>2.770014</td>\n",
              "      <td>186.910907</td>\n",
              "      <td>0.494901</td>\n",
              "      <td>1.570960</td>\n",
              "      <td>0.578840</td>\n",
              "      <td>4.628198</td>\n",
              "      <td>1.734447</td>\n",
              "      <td>72.251528</td>\n",
              "    </tr>\n",
              "    <tr>\n",
              "      <th>min</th>\n",
              "      <td>17.00000</td>\n",
              "      <td>0.000000</td>\n",
              "      <td>1.000000</td>\n",
              "      <td>0.000000</td>\n",
              "      <td>0.000000</td>\n",
              "      <td>-3.400000</td>\n",
              "      <td>92.201000</td>\n",
              "      <td>-50.800000</td>\n",
              "      <td>0.634000</td>\n",
              "      <td>4963.600000</td>\n",
              "    </tr>\n",
              "    <tr>\n",
              "      <th>25%</th>\n",
              "      <td>32.00000</td>\n",
              "      <td>102.000000</td>\n",
              "      <td>1.000000</td>\n",
              "      <td>999.000000</td>\n",
              "      <td>0.000000</td>\n",
              "      <td>-1.800000</td>\n",
              "      <td>93.075000</td>\n",
              "      <td>-42.700000</td>\n",
              "      <td>1.344000</td>\n",
              "      <td>5099.100000</td>\n",
              "    </tr>\n",
              "    <tr>\n",
              "      <th>50%</th>\n",
              "      <td>38.00000</td>\n",
              "      <td>180.000000</td>\n",
              "      <td>2.000000</td>\n",
              "      <td>999.000000</td>\n",
              "      <td>0.000000</td>\n",
              "      <td>1.100000</td>\n",
              "      <td>93.749000</td>\n",
              "      <td>-41.800000</td>\n",
              "      <td>4.857000</td>\n",
              "      <td>5191.000000</td>\n",
              "    </tr>\n",
              "    <tr>\n",
              "      <th>75%</th>\n",
              "      <td>47.00000</td>\n",
              "      <td>319.000000</td>\n",
              "      <td>3.000000</td>\n",
              "      <td>999.000000</td>\n",
              "      <td>0.000000</td>\n",
              "      <td>1.400000</td>\n",
              "      <td>93.994000</td>\n",
              "      <td>-36.400000</td>\n",
              "      <td>4.961000</td>\n",
              "      <td>5228.100000</td>\n",
              "    </tr>\n",
              "    <tr>\n",
              "      <th>max</th>\n",
              "      <td>98.00000</td>\n",
              "      <td>4918.000000</td>\n",
              "      <td>56.000000</td>\n",
              "      <td>999.000000</td>\n",
              "      <td>7.000000</td>\n",
              "      <td>1.400000</td>\n",
              "      <td>94.767000</td>\n",
              "      <td>-26.900000</td>\n",
              "      <td>5.045000</td>\n",
              "      <td>5228.100000</td>\n",
              "    </tr>\n",
              "  </tbody>\n",
              "</table>\n",
              "</div>\n",
              "      <button class=\"colab-df-convert\" onclick=\"convertToInteractive('df-40d934ce-66d9-47fc-85a5-2c9c8951fdc3')\"\n",
              "              title=\"Convert this dataframe to an interactive table.\"\n",
              "              style=\"display:none;\">\n",
              "        \n",
              "  <svg xmlns=\"http://www.w3.org/2000/svg\" height=\"24px\"viewBox=\"0 0 24 24\"\n",
              "       width=\"24px\">\n",
              "    <path d=\"M0 0h24v24H0V0z\" fill=\"none\"/>\n",
              "    <path d=\"M18.56 5.44l.94 2.06.94-2.06 2.06-.94-2.06-.94-.94-2.06-.94 2.06-2.06.94zm-11 1L8.5 8.5l.94-2.06 2.06-.94-2.06-.94L8.5 2.5l-.94 2.06-2.06.94zm10 10l.94 2.06.94-2.06 2.06-.94-2.06-.94-.94-2.06-.94 2.06-2.06.94z\"/><path d=\"M17.41 7.96l-1.37-1.37c-.4-.4-.92-.59-1.43-.59-.52 0-1.04.2-1.43.59L10.3 9.45l-7.72 7.72c-.78.78-.78 2.05 0 2.83L4 21.41c.39.39.9.59 1.41.59.51 0 1.02-.2 1.41-.59l7.78-7.78 2.81-2.81c.8-.78.8-2.07 0-2.86zM5.41 20L4 18.59l7.72-7.72 1.47 1.35L5.41 20z\"/>\n",
              "  </svg>\n",
              "      </button>\n",
              "      \n",
              "  <style>\n",
              "    .colab-df-container {\n",
              "      display:flex;\n",
              "      flex-wrap:wrap;\n",
              "      gap: 12px;\n",
              "    }\n",
              "\n",
              "    .colab-df-convert {\n",
              "      background-color: #E8F0FE;\n",
              "      border: none;\n",
              "      border-radius: 50%;\n",
              "      cursor: pointer;\n",
              "      display: none;\n",
              "      fill: #1967D2;\n",
              "      height: 32px;\n",
              "      padding: 0 0 0 0;\n",
              "      width: 32px;\n",
              "    }\n",
              "\n",
              "    .colab-df-convert:hover {\n",
              "      background-color: #E2EBFA;\n",
              "      box-shadow: 0px 1px 2px rgba(60, 64, 67, 0.3), 0px 1px 3px 1px rgba(60, 64, 67, 0.15);\n",
              "      fill: #174EA6;\n",
              "    }\n",
              "\n",
              "    [theme=dark] .colab-df-convert {\n",
              "      background-color: #3B4455;\n",
              "      fill: #D2E3FC;\n",
              "    }\n",
              "\n",
              "    [theme=dark] .colab-df-convert:hover {\n",
              "      background-color: #434B5C;\n",
              "      box-shadow: 0px 1px 3px 1px rgba(0, 0, 0, 0.15);\n",
              "      filter: drop-shadow(0px 1px 2px rgba(0, 0, 0, 0.3));\n",
              "      fill: #FFFFFF;\n",
              "    }\n",
              "  </style>\n",
              "\n",
              "      <script>\n",
              "        const buttonEl =\n",
              "          document.querySelector('#df-40d934ce-66d9-47fc-85a5-2c9c8951fdc3 button.colab-df-convert');\n",
              "        buttonEl.style.display =\n",
              "          google.colab.kernel.accessAllowed ? 'block' : 'none';\n",
              "\n",
              "        async function convertToInteractive(key) {\n",
              "          const element = document.querySelector('#df-40d934ce-66d9-47fc-85a5-2c9c8951fdc3');\n",
              "          const dataTable =\n",
              "            await google.colab.kernel.invokeFunction('convertToInteractive',\n",
              "                                                     [key], {});\n",
              "          if (!dataTable) return;\n",
              "\n",
              "          const docLinkHtml = 'Like what you see? Visit the ' +\n",
              "            '<a target=\"_blank\" href=https://colab.research.google.com/notebooks/data_table.ipynb>data table notebook</a>'\n",
              "            + ' to learn more about interactive tables.';\n",
              "          element.innerHTML = '';\n",
              "          dataTable['output_type'] = 'display_data';\n",
              "          await google.colab.output.renderOutput(dataTable, element);\n",
              "          const docLink = document.createElement('div');\n",
              "          docLink.innerHTML = docLinkHtml;\n",
              "          element.appendChild(docLink);\n",
              "        }\n",
              "      </script>\n",
              "    </div>\n",
              "  </div>\n",
              "  "
            ]
          },
          "metadata": {},
          "execution_count": 5
        }
      ]
    },
    {
      "cell_type": "markdown",
      "source": [
        "###  **Q.1 Basic Primary Analysis**\n",
        "\n",
        "---\n",
        "\n"
      ],
      "metadata": {
        "id": "4LEC530g9m0t"
      }
    },
    {
      "cell_type": "code",
      "source": [
        "sns.set_style(\"darkgrid\")\n",
        "plt.figure(figsize=(7,7))"
      ],
      "metadata": {
        "colab": {
          "base_uri": "https://localhost:8080/",
          "height": 52
        },
        "id": "lObkjonV-bcZ",
        "outputId": "8984ad18-6fb6-4d89-858a-cf413a551385"
      },
      "execution_count": null,
      "outputs": [
        {
          "output_type": "execute_result",
          "data": {
            "text/plain": [
              "<Figure size 504x504 with 0 Axes>"
            ]
          },
          "metadata": {},
          "execution_count": 6
        },
        {
          "output_type": "display_data",
          "data": {
            "text/plain": [
              "<Figure size 504x504 with 0 Axes>"
            ]
          },
          "metadata": {}
        }
      ]
    },
    {
      "cell_type": "code",
      "source": [
        "plt.title('Martial status and term deposit')\n",
        "plt.ylabel('Number of clients')\n",
        "sns.countplot(x=\"marital\",data=df,hue='y',palette='autumn')\n",
        "plt.show()"
      ],
      "metadata": {
        "colab": {
          "base_uri": "https://localhost:8080/",
          "height": 295
        },
        "id": "pRUPgq_E9hOf",
        "outputId": "79b7087a-6eb0-4548-fe2b-1246d38278db"
      },
      "execution_count": null,
      "outputs": [
        {
          "output_type": "display_data",
          "data": {
            "text/plain": [
              "<Figure size 432x288 with 1 Axes>"
            ],
            "image/png": "[encoded data removed]"
          },
          "metadata": {}
        }
      ]
    },
    {
      "cell_type": "markdown",
      "source": [
        "***In terms martial status whether it be married,single or divorced clients has not subscribed to term deposits.***"
      ],
      "metadata": {
        "id": "4s1b0b2Fdp-C"
      }
    },
    {
      "cell_type": "code",
      "source": [
        "plt.figure(figsize=(8,8))\n",
        "plt.xticks(rotation=75)\n",
        "\n",
        "sns.countplot(x=\"education\",data=df,hue='y',palette='autumn')\n",
        "plt.show()"
      ],
      "metadata": {
        "colab": {
          "base_uri": "https://localhost:8080/",
          "height": 583
        },
        "id": "Te4f_9oQ_B2l",
        "outputId": "bd49ce34-dbf9-4210-cfe6-f12211eeb21b"
      },
      "execution_count": null,
      "outputs": [
        {
          "output_type": "display_data",
          "data": {
            "text/plain": [
              "<Figure size 576x576 with 1 Axes>"
            ],
            "image/png": "[encoded data removed]"
          },
          "metadata": {}
        }
      ]
    },
    {
      "cell_type": "markdown",
      "source": [
        "***In terms of  education, University degree clients has the most subscription to the term deposit than other education qualifications***"
      ],
      "metadata": {
        "id": "Wvtjx7q5eYe5"
      }
    },
    {
      "cell_type": "code",
      "source": [
        "plt.figure(figsize=(8,8))\n",
        "plt.xticks(rotation=45)\n",
        "plt.ylabel('No. of Clients')\n",
        "sns.countplot(x=\"job\",data=df,hue='y',palette='autumn')\n",
        "plt.show()"
      ],
      "metadata": {
        "colab": {
          "base_uri": "https://localhost:8080/",
          "height": 503
        },
        "id": "nYVmbSLDA4Qe",
        "outputId": "c52bfa43-0056-46d0-e8c6-98cb159b3ee9"
      },
      "execution_count": null,
      "outputs": [
        {
          "output_type": "display_data",
          "data": {
            "text/plain": [
              "<Figure size 576x576 with 1 Axes>"
            ],
            "image/png": "[encoded data removed]"
          },
          "metadata": {}
        }
      ]
    },
    {
      "cell_type": "markdown",
      "source": [
        "###  **Q.2 Basic Exploratory Analysis**\n",
        "\n",
        "---\n",
        "**a. Missing value Analysis**\n"
      ],
      "metadata": {
        "id": "kc7t7b9UBxxd"
      }
    },
    {
      "cell_type": "code",
      "source": [
        "df.info()"
      ],
      "metadata": {
        "colab": {
          "base_uri": "https://localhost:8080/"
        },
        "id": "-hC8I343BV-c",
        "outputId": "6e14af5b-c7db-4104-f14b-b90383151262"
      },
      "execution_count": null,
      "outputs": [
        {
          "output_type": "stream",
          "name": "stdout",
          "text": [
            "<class 'pandas.core.frame.DataFrame'>\n",
            "RangeIndex: 41188 entries, 0 to 41187\n",
            "Data columns (total 21 columns):\n",
            " #   Column          Non-Null Count  Dtype  \n",
            "---  ------          --------------  -----  \n",
            " 0   age             41188 non-null  int64  \n",
            " 1   job             41188 non-null  object \n",
            " 2   marital         41188 non-null  object \n",
            " 3   education       41188 non-null  object \n",
            " 4   default         41188 non-null  object \n",
            " 5   housing         41188 non-null  object \n",
            " 6   loan            41188 non-null  object \n",
            " 7   contact         41188 non-null  object \n",
            " 8   month           41188 non-null  object \n",
            " 9   day_of_week     41188 non-null  object \n",
            " 10  duration        41188 non-null  int64  \n",
            " 11  campaign        41188 non-null  int64  \n",
            " 12  pdays           41188 non-null  int64  \n",
            " 13  previous        41188 non-null  int64  \n",
            " 14  poutcome        41188 non-null  object \n",
            " 15  emp.var.rate    41188 non-null  float64\n",
            " 16  cons.price.idx  41188 non-null  float64\n",
            " 17  cons.conf.idx   41188 non-null  float64\n",
            " 18  euribor3m       41188 non-null  float64\n",
            " 19  nr.employed     41188 non-null  float64\n",
            " 20  y               41188 non-null  object \n",
            "dtypes: float64(5), int64(5), object(11)\n",
            "memory usage: 6.6+ MB\n"
          ]
        }
      ]
    },
    {
      "cell_type": "markdown",
      "source": [
        "*From the above output, it is evident that there are no missing values in the given dataset.*"
      ],
      "metadata": {
        "id": "BSEQg8_OCxpN"
      }
    },
    {
      "cell_type": "code",
      "source": [
        "f, ax = plt.subplots(figsize=(15,10 ))\n",
        "sns.heatmap(df.corr(),annot=True)"
      ],
      "metadata": {
        "colab": {
          "base_uri": "https://localhost:8080/",
          "height": 672
        },
        "id": "lbvIFe6zDEiM",
        "outputId": "0134646d-a2d7-4854-8b21-ee4bf5930fac"
      },
      "execution_count": null,
      "outputs": [
        {
          "output_type": "execute_result",
          "data": {
            "text/plain": [
              "<matplotlib.axes._subplots.AxesSubplot at 0x7f002645ced0>"
            ]
          },
          "metadata": {},
          "execution_count": 12
        },
        {
          "output_type": "display_data",
          "data": {
            "text/plain": [
              "<Figure size 1080x720 with 2 Axes>"
            ],
            "image/png": "[encoded data removed]"
          },
          "metadata": {}
        }
      ]
    },
    {
      "cell_type": "markdown",
      "source": [
        " **b.Performing Label Encoding as most of the values are in object data type**\n",
        "\n",
        "---\n",
        "\n"
      ],
      "metadata": {
        "id": "Crd4ZZx7Dj9G"
      }
    },
    {
      "cell_type": "code",
      "source": [
        "from sklearn import preprocessing\n",
        "label_encoder=preprocessing.LabelEncoder()\n",
        "df['job']= label_encoder.fit_transform(df['job'])"
      ],
      "metadata": {
        "id": "y6GR72wbDgLt"
      },
      "execution_count": null,
      "outputs": []
    },
    {
      "cell_type": "code",
      "source": [
        "df['marital']= label_encoder.fit_transform(df['marital'])"
      ],
      "metadata": {
        "id": "ztapLbggDzXT"
      },
      "execution_count": null,
      "outputs": []
    },
    {
      "cell_type": "code",
      "source": [
        "df['education']= label_encoder.fit_transform(df['education'])\n"
      ],
      "metadata": {
        "id": "IxjPlLW5D6FE"
      },
      "execution_count": null,
      "outputs": []
    },
    {
      "cell_type": "code",
      "source": [
        "df['default']= label_encoder.fit_transform(df['default'])\n",
        "df['housing']= label_encoder.fit_transform(df['housing'])\n",
        "df['loan']= label_encoder.fit_transform(df['loan'])\n",
        "df['contact']= label_encoder.fit_transform(df['contact'])\n",
        "df['month']= label_encoder.fit_transform(df['month'])\n",
        "df['day_of_week']= label_encoder.fit_transform(df['day_of_week'])\n",
        "df['poutcome']= label_encoder.fit_transform(df['poutcome'])"
      ],
      "metadata": {
        "id": "1f8fDPDnECRt"
      },
      "execution_count": null,
      "outputs": []
    },
    {
      "cell_type": "code",
      "source": [
        "df.dtypes"
      ],
      "metadata": {
        "colab": {
          "base_uri": "https://localhost:8080/"
        },
        "id": "ef156S1vEdrL",
        "outputId": "641b07af-7c4f-4da5-8b85-d115ba5cba0f"
      },
      "execution_count": null,
      "outputs": [
        {
          "output_type": "execute_result",
          "data": {
            "text/plain": [
              "age                 int64\n",
              "job                 int64\n",
              "marital             int64\n",
              "education           int64\n",
              "default             int64\n",
              "housing             int64\n",
              "loan                int64\n",
              "contact             int64\n",
              "month               int64\n",
              "day_of_week         int64\n",
              "duration            int64\n",
              "campaign            int64\n",
              "pdays               int64\n",
              "previous            int64\n",
              "poutcome            int64\n",
              "emp.var.rate      float64\n",
              "cons.price.idx    float64\n",
              "cons.conf.idx     float64\n",
              "euribor3m         float64\n",
              "nr.employed       float64\n",
              "y                  object\n",
              "dtype: object"
            ]
          },
          "metadata": {},
          "execution_count": 17
        }
      ]
    },
    {
      "cell_type": "code",
      "source": [
        "df.corr()"
      ],
      "metadata": {
        "colab": {
          "base_uri": "https://localhost:8080/",
          "height": 741
        },
        "id": "-ntbUJCyFIJ7",
        "outputId": "764a76b0-e97e-4d0b-832a-b1c195c4d0c8"
      },
      "execution_count": null,
      "outputs": [
        {
          "output_type": "execute_result",
          "data": {
            "text/plain": [
              "                     age       job   marital  education   default   housing  \\\n",
              "age             1.000000  0.001250 -0.389753  -0.117892  0.164965 -0.001603   \n",
              "job             0.001250  1.000000  0.027897   0.134121 -0.028277  0.006962   \n",
              "marital        -0.389753  0.027897  1.000000   0.109220 -0.079450  0.010467   \n",
              "education      -0.117892  0.134121  0.109220   1.000000 -0.186859  0.016825   \n",
              "default         0.164965 -0.028277 -0.079450  -0.186859  1.000000 -0.015815   \n",
              "housing        -0.001603  0.006962  0.010467   0.016825 -0.015815  1.000000   \n",
              "loan           -0.007368 -0.010209  0.005788   0.006384 -0.003782  0.044296   \n",
              "contact         0.007021 -0.025132 -0.054501  -0.105726  0.135238 -0.082186   \n",
              "month          -0.024877 -0.033213 -0.007629  -0.082684 -0.015830 -0.018141   \n",
              "day_of_week    -0.017572 -0.000844  0.002202  -0.017986 -0.008701  0.003339   \n",
              "duration       -0.000866 -0.006490  0.010290  -0.015102 -0.011794 -0.007658   \n",
              "campaign        0.004594 -0.006923 -0.007240   0.000371  0.032825 -0.011010   \n",
              "pdays          -0.034369 -0.028468 -0.037942  -0.046626  0.080062 -0.010551   \n",
              "previous        0.024365  0.020965  0.038689   0.038831 -0.102416  0.021314   \n",
              "poutcome        0.019750  0.011504  0.001912   0.017009  0.023417 -0.011783   \n",
              "emp.var.rate   -0.000371 -0.008271 -0.084210  -0.043778  0.203263 -0.060196   \n",
              "cons.price.idx  0.000857 -0.016017 -0.057477  -0.081607  0.168073 -0.080504   \n",
              "cons.conf.idx   0.129372  0.052760 -0.033783   0.078799  0.026522 -0.033845   \n",
              "euribor3m       0.010767 -0.007880 -0.091939  -0.036380  0.195336 -0.059277   \n",
              "nr.employed    -0.017725 -0.019574 -0.086199  -0.041492  0.189845 -0.045862   \n",
              "\n",
              "                    loan   contact     month  day_of_week  duration  campaign  \\\n",
              "age            -0.007368  0.007021 -0.024877    -0.017572 -0.000866  0.004594   \n",
              "job            -0.010209 -0.025132 -0.033213    -0.000844 -0.006490 -0.006923   \n",
              "marital         0.005788 -0.054501 -0.007629     0.002202  0.010290 -0.007240   \n",
              "education       0.006384 -0.105726 -0.082684    -0.017986 -0.015102  0.000371   \n",
              "default        -0.003782  0.135238 -0.015830    -0.008701 -0.011794  0.032825   \n",
              "housing         0.044296 -0.082186 -0.018141     0.003339 -0.007658 -0.011010   \n",
              "loan            1.000000 -0.008556 -0.005705    -0.009344 -0.000916  0.005166   \n",
              "contact        -0.008556  1.000000  0.276565    -0.009575 -0.026657  0.077368   \n",
              "month          -0.005705  0.276565  1.000000     0.027677  0.003690 -0.062059   \n",
              "day_of_week    -0.009344 -0.009575  0.027677     1.000000  0.021950 -0.038288   \n",
              "duration       -0.000916 -0.026657  0.003690     0.021950  1.000000 -0.071699   \n",
              "campaign        0.005166  0.077368 -0.062059    -0.038288 -0.071699  1.000000   \n",
              "pdays           0.000345  0.117970 -0.047891    -0.009531 -0.047577  0.052584   \n",
              "previous       -0.001327 -0.212848  0.103157    -0.004102  0.020640 -0.079141   \n",
              "poutcome       -0.001511  0.118744 -0.065012     0.018732  0.033360  0.032586   \n",
              "emp.var.rate    0.001849  0.393584 -0.178782     0.033245 -0.027968  0.150754   \n",
              "cons.price.idx -0.002430  0.591474 -0.004239     0.005644  0.005312  0.127836   \n",
              "cons.conf.idx  -0.012025  0.251614  0.009652     0.041465 -0.008173 -0.013733   \n",
              "euribor3m       0.000125  0.399773 -0.117264     0.039043 -0.032897  0.135133   \n",
              "nr.employed     0.003903  0.269155 -0.221425     0.028380 -0.044703  0.144095   \n",
              "\n",
              "                   pdays  previous  poutcome  emp.var.rate  cons.price.idx  \\\n",
              "age            -0.034369  0.024365  0.019750     -0.000371        0.000857   \n",
              "job            -0.028468  0.020965  0.011504     -0.008271       -0.016017   \n",
              "marital        -0.037942  0.038689  0.001912     -0.084210       -0.057477   \n",
              "education      -0.046626  0.038831  0.017009     -0.043778       -0.081607   \n",
              "default         0.080062 -0.102416  0.023417      0.203263        0.168073   \n",
              "housing        -0.010551  0.021314 -0.011783     -0.060196       -0.080504   \n",
              "loan            0.000345 -0.001327 -0.001511      0.001849       -0.002430   \n",
              "contact         0.117970 -0.212848  0.118744      0.393584        0.591474   \n",
              "month          -0.047891  0.103157 -0.065012     -0.178782       -0.004239   \n",
              "day_of_week    -0.009531 -0.004102  0.018732      0.033245        0.005644   \n",
              "duration       -0.047577  0.020640  0.033360     -0.027968        0.005312   \n",
              "campaign        0.052584 -0.079141  0.032586      0.150754        0.127836   \n",
              "pdays           1.000000 -0.587514 -0.475619      0.271004        0.078889   \n",
              "previous       -0.587514  1.000000 -0.313110     -0.420489       -0.203130   \n",
              "poutcome       -0.475619 -0.313110  1.000000      0.192972        0.211330   \n",
              "emp.var.rate    0.271004 -0.420489  0.192972      1.000000        0.775334   \n",
              "cons.price.idx  0.078889 -0.203130  0.211330      0.775334        1.000000   \n",
              "cons.conf.idx  -0.091342 -0.050936  0.178289      0.196041        0.058986   \n",
              "euribor3m       0.296899 -0.454494  0.184144      0.972245        0.688230   \n",
              "nr.employed     0.372605 -0.501333  0.119689      0.906970        0.522034   \n",
              "\n",
              "                cons.conf.idx  euribor3m  nr.employed  \n",
              "age                  0.129372   0.010767    -0.017725  \n",
              "job                  0.052760  -0.007880    -0.019574  \n",
              "marital             -0.033783  -0.091939    -0.086199  \n",
              "education            0.078799  -0.036380    -0.041492  \n",
              "default              0.026522   0.195336     0.189845  \n",
              "housing             -0.033845  -0.059277    -0.045862  \n",
              "loan                -0.012025   0.000125     0.003903  \n",
              "contact              0.251614   0.399773     0.269155  \n",
              "month                0.009652  -0.117264    -0.221425  \n",
              "day_of_week          0.041465   0.039043     0.028380  \n",
              "duration            -0.008173  -0.032897    -0.044703  \n",
              "campaign            -0.013733   0.135133     0.144095  \n",
              "pdays               -0.091342   0.296899     0.372605  \n",
              "previous            -0.050936  -0.454494    -0.501333  \n",
              "poutcome             0.178289   0.184144     0.119689  \n",
              "emp.var.rate         0.196041   0.972245     0.906970  \n",
              "cons.price.idx       0.058986   0.688230     0.522034  \n",
              "cons.conf.idx        1.000000   0.277686     0.100513  \n",
              "euribor3m            0.277686   1.000000     0.945154  \n",
              "nr.employed          0.100513   0.945154     1.000000  "
            ],
            "text/html": [
              "\n",
              "  <div id=\"df-0da7a6fd-c2fd-452b-8f18-bab24823af9f\">\n",
              "    <div class=\"colab-df-container\">\n",
              "      <div>\n",
              "<style scoped>\n",
              "    .dataframe tbody tr th:only-of-type {\n",
              "        vertical-align: middle;\n",
              "    }\n",
              "\n",
              "    .dataframe tbody tr th {\n",
              "        vertical-align: top;\n",
              "    }\n",
              "\n",
              "    .dataframe thead th {\n",
              "        text-align: right;\n",
              "    }\n",
              "</style>\n",
              "<table border=\"1\" class=\"dataframe\">\n",
              "  <thead>\n",
              "    <tr style=\"text-align: right;\">\n",
              "      <th></th>\n",
              "      <th>age</th>\n",
              "      <th>job</th>\n",
              "      <th>marital</th>\n",
              "      <th>education</th>\n",
              "      <th>default</th>\n",
              "      <th>housing</th>\n",
              "      <th>loan</th>\n",
              "      <th>contact</th>\n",
              "      <th>month</th>\n",
              "      <th>day_of_week</th>\n",
              "      <th>duration</th>\n",
              "      <th>campaign</th>\n",
              "      <th>pdays</th>\n",
              "      <th>previous</th>\n",
              "      <th>poutcome</th>\n",
              "      <th>emp.var.rate</th>\n",
              "      <th>cons.price.idx</th>\n",
              "      <th>cons.conf.idx</th>\n",
              "      <th>euribor3m</th>\n",
              "      <th>nr.employed</th>\n",
              "    </tr>\n",
              "  </thead>\n",
              "  <tbody>\n",
              "    <tr>\n",
              "      <th>age</th>\n",
              "      <td>1.000000</td>\n",
              "      <td>0.001250</td>\n",
              "      <td>-0.389753</td>\n",
              "      <td>-0.117892</td>\n",
              "      <td>0.164965</td>\n",
              "      <td>-0.001603</td>\n",
              "      <td>-0.007368</td>\n",
              "      <td>0.007021</td>\n",
              "      <td>-0.024877</td>\n",
              "      <td>-0.017572</td>\n",
              "      <td>-0.000866</td>\n",
              "      <td>0.004594</td>\n",
              "      <td>-0.034369</td>\n",
              "      <td>0.024365</td>\n",
              "      <td>0.019750</td>\n",
              "      <td>-0.000371</td>\n",
              "      <td>0.000857</td>\n",
              "      <td>0.129372</td>\n",
              "      <td>0.010767</td>\n",
              "      <td>-0.017725</td>\n",
              "    </tr>\n",
              "    <tr>\n",
              "      <th>job</th>\n",
              "      <td>0.001250</td>\n",
              "      <td>1.000000</td>\n",
              "      <td>0.027897</td>\n",
              "      <td>0.134121</td>\n",
              "      <td>-0.028277</td>\n",
              "      <td>0.006962</td>\n",
              "      <td>-0.010209</td>\n",
              "      <td>-0.025132</td>\n",
              "      <td>-0.033213</td>\n",
              "      <td>-0.000844</td>\n",
              "      <td>-0.006490</td>\n",
              "      <td>-0.006923</td>\n",
              "      <td>-0.028468</td>\n",
              "      <td>0.020965</td>\n",
              "      <td>0.011504</td>\n",
              "      <td>-0.008271</td>\n",
              "      <td>-0.016017</td>\n",
              "      <td>0.052760</td>\n",
              "      <td>-0.007880</td>\n",
              "      <td>-0.019574</td>\n",
              "    </tr>\n",
              "    <tr>\n",
              "      <th>marital</th>\n",
              "      <td>-0.389753</td>\n",
              "      <td>0.027897</td>\n",
              "      <td>1.000000</td>\n",
              "      <td>0.109220</td>\n",
              "      <td>-0.079450</td>\n",
              "      <td>0.010467</td>\n",
              "      <td>0.005788</td>\n",
              "      <td>-0.054501</td>\n",
              "      <td>-0.007629</td>\n",
              "      <td>0.002202</td>\n",
              "      <td>0.010290</td>\n",
              "      <td>-0.007240</td>\n",
              "      <td>-0.037942</td>\n",
              "      <td>0.038689</td>\n",
              "      <td>0.001912</td>\n",
              "      <td>-0.084210</td>\n",
              "      <td>-0.057477</td>\n",
              "      <td>-0.033783</td>\n",
              "      <td>-0.091939</td>\n",
              "      <td>-0.086199</td>\n",
              "    </tr>\n",
              "    <tr>\n",
              "      <th>education</th>\n",
              "      <td>-0.117892</td>\n",
              "      <td>0.134121</td>\n",
              "      <td>0.109220</td>\n",
              "      <td>1.000000</td>\n",
              "      <td>-0.186859</td>\n",
              "      <td>0.016825</td>\n",
              "      <td>0.006384</td>\n",
              "      <td>-0.105726</td>\n",
              "      <td>-0.082684</td>\n",
              "      <td>-0.017986</td>\n",
              "      <td>-0.015102</td>\n",
              "      <td>0.000371</td>\n",
              "      <td>-0.046626</td>\n",
              "      <td>0.038831</td>\n",
              "      <td>0.017009</td>\n",
              "      <td>-0.043778</td>\n",
              "      <td>-0.081607</td>\n",
              "      <td>0.078799</td>\n",
              "      <td>-0.036380</td>\n",
              "      <td>-0.041492</td>\n",
              "    </tr>\n",
              "    <tr>\n",
              "      <th>default</th>\n",
              "      <td>0.164965</td>\n",
              "      <td>-0.028277</td>\n",
              "      <td>-0.079450</td>\n",
              "      <td>-0.186859</td>\n",
              "      <td>1.000000</td>\n",
              "      <td>-0.015815</td>\n",
              "      <td>-0.003782</td>\n",
              "      <td>0.135238</td>\n",
              "      <td>-0.015830</td>\n",
              "      <td>-0.008701</td>\n",
              "      <td>-0.011794</td>\n",
              "      <td>0.032825</td>\n",
              "      <td>0.080062</td>\n",
              "      <td>-0.102416</td>\n",
              "      <td>0.023417</td>\n",
              "      <td>0.203263</td>\n",
              "      <td>0.168073</td>\n",
              "      <td>0.026522</td>\n",
              "      <td>0.195336</td>\n",
              "      <td>0.189845</td>\n",
              "    </tr>\n",
              "    <tr>\n",
              "      <th>housing</th>\n",
              "      <td>-0.001603</td>\n",
              "      <td>0.006962</td>\n",
              "      <td>0.010467</td>\n",
              "      <td>0.016825</td>\n",
              "      <td>-0.015815</td>\n",
              "      <td>1.000000</td>\n",
              "      <td>0.044296</td>\n",
              "      <td>-0.082186</td>\n",
              "      <td>-0.018141</td>\n",
              "      <td>0.003339</td>\n",
              "      <td>-0.007658</td>\n",
              "      <td>-0.011010</td>\n",
              "      <td>-0.010551</td>\n",
              "      <td>0.021314</td>\n",
              "      <td>-0.011783</td>\n",
              "      <td>-0.060196</td>\n",
              "      <td>-0.080504</td>\n",
              "      <td>-0.033845</td>\n",
              "      <td>-0.059277</td>\n",
              "      <td>-0.045862</td>\n",
              "    </tr>\n",
              "    <tr>\n",
              "      <th>loan</th>\n",
              "      <td>-0.007368</td>\n",
              "      <td>-0.010209</td>\n",
              "      <td>0.005788</td>\n",
              "      <td>0.006384</td>\n",
              "      <td>-0.003782</td>\n",
              "      <td>0.044296</td>\n",
              "      <td>1.000000</td>\n",
              "      <td>-0.008556</td>\n",
              "      <td>-0.005705</td>\n",
              "      <td>-0.009344</td>\n",
              "      <td>-0.000916</td>\n",
              "      <td>0.005166</td>\n",
              "      <td>0.000345</td>\n",
              "      <td>-0.001327</td>\n",
              "      <td>-0.001511</td>\n",
              "      <td>0.001849</td>\n",
              "      <td>-0.002430</td>\n",
              "      <td>-0.012025</td>\n",
              "      <td>0.000125</td>\n",
              "      <td>0.003903</td>\n",
              "    </tr>\n",
              "    <tr>\n",
              "      <th>contact</th>\n",
              "      <td>0.007021</td>\n",
              "      <td>-0.025132</td>\n",
              "      <td>-0.054501</td>\n",
              "      <td>-0.105726</td>\n",
              "      <td>0.135238</td>\n",
              "      <td>-0.082186</td>\n",
              "      <td>-0.008556</td>\n",
              "      <td>1.000000</td>\n",
              "      <td>0.276565</td>\n",
              "      <td>-0.009575</td>\n",
              "      <td>-0.026657</td>\n",
              "      <td>0.077368</td>\n",
              "      <td>0.117970</td>\n",
              "      <td>-0.212848</td>\n",
              "      <td>0.118744</td>\n",
              "      <td>0.393584</td>\n",
              "      <td>0.591474</td>\n",
              "      <td>0.251614</td>\n",
              "      <td>0.399773</td>\n",
              "      <td>0.269155</td>\n",
              "    </tr>\n",
              "    <tr>\n",
              "      <th>month</th>\n",
              "      <td>-0.024877</td>\n",
              "      <td>-0.033213</td>\n",
              "      <td>-0.007629</td>\n",
              "      <td>-0.082684</td>\n",
              "      <td>-0.015830</td>\n",
              "      <td>-0.018141</td>\n",
              "      <td>-0.005705</td>\n",
              "      <td>0.276565</td>\n",
              "      <td>1.000000</td>\n",
              "      <td>0.027677</td>\n",
              "      <td>0.003690</td>\n",
              "      <td>-0.062059</td>\n",
              "      <td>-0.047891</td>\n",
              "      <td>0.103157</td>\n",
              "      <td>-0.065012</td>\n",
              "      <td>-0.178782</td>\n",
              "      <td>-0.004239</td>\n",
              "      <td>0.009652</td>\n",
              "      <td>-0.117264</td>\n",
              "      <td>-0.221425</td>\n",
              "    </tr>\n",
              "    <tr>\n",
              "      <th>day_of_week</th>\n",
              "      <td>-0.017572</td>\n",
              "      <td>-0.000844</td>\n",
              "      <td>0.002202</td>\n",
              "      <td>-0.017986</td>\n",
              "      <td>-0.008701</td>\n",
              "      <td>0.003339</td>\n",
              "      <td>-0.009344</td>\n",
              "      <td>-0.009575</td>\n",
              "      <td>0.027677</td>\n",
              "      <td>1.000000</td>\n",
              "      <td>0.021950</td>\n",
              "      <td>-0.038288</td>\n",
              "      <td>-0.009531</td>\n",
              "      <td>-0.004102</td>\n",
              "      <td>0.018732</td>\n",
              "      <td>0.033245</td>\n",
              "      <td>0.005644</td>\n",
              "      <td>0.041465</td>\n",
              "      <td>0.039043</td>\n",
              "      <td>0.028380</td>\n",
              "    </tr>\n",
              "    <tr>\n",
              "      <th>duration</th>\n",
              "      <td>-0.000866</td>\n",
              "      <td>-0.006490</td>\n",
              "      <td>0.010290</td>\n",
              "      <td>-0.015102</td>\n",
              "      <td>-0.011794</td>\n",
              "      <td>-0.007658</td>\n",
              "      <td>-0.000916</td>\n",
              "      <td>-0.026657</td>\n",
              "      <td>0.003690</td>\n",
              "      <td>0.021950</td>\n",
              "      <td>1.000000</td>\n",
              "      <td>-0.071699</td>\n",
              "      <td>-0.047577</td>\n",
              "      <td>0.020640</td>\n",
              "      <td>0.033360</td>\n",
              "      <td>-0.027968</td>\n",
              "      <td>0.005312</td>\n",
              "      <td>-0.008173</td>\n",
              "      <td>-0.032897</td>\n",
              "      <td>-0.044703</td>\n",
              "    </tr>\n",
              "    <tr>\n",
              "      <th>campaign</th>\n",
              "      <td>0.004594</td>\n",
              "      <td>-0.006923</td>\n",
              "      <td>-0.007240</td>\n",
              "      <td>0.000371</td>\n",
              "      <td>0.032825</td>\n",
              "      <td>-0.011010</td>\n",
              "      <td>0.005166</td>\n",
              "      <td>0.077368</td>\n",
              "      <td>-0.062059</td>\n",
              "      <td>-0.038288</td>\n",
              "      <td>-0.071699</td>\n",
              "      <td>1.000000</td>\n",
              "      <td>0.052584</td>\n",
              "      <td>-0.079141</td>\n",
              "      <td>0.032586</td>\n",
              "      <td>0.150754</td>\n",
              "      <td>0.127836</td>\n",
              "      <td>-0.013733</td>\n",
              "      <td>0.135133</td>\n",
              "      <td>0.144095</td>\n",
              "    </tr>\n",
              "    <tr>\n",
              "      <th>pdays</th>\n",
              "      <td>-0.034369</td>\n",
              "      <td>-0.028468</td>\n",
              "      <td>-0.037942</td>\n",
              "      <td>-0.046626</td>\n",
              "      <td>0.080062</td>\n",
              "      <td>-0.010551</td>\n",
              "      <td>0.000345</td>\n",
              "      <td>0.117970</td>\n",
              "      <td>-0.047891</td>\n",
              "      <td>-0.009531</td>\n",
              "      <td>-0.047577</td>\n",
              "      <td>0.052584</td>\n",
              "      <td>1.000000</td>\n",
              "      <td>-0.587514</td>\n",
              "      <td>-0.475619</td>\n",
              "      <td>0.271004</td>\n",
              "      <td>0.078889</td>\n",
              "      <td>-0.091342</td>\n",
              "      <td>0.296899</td>\n",
              "      <td>0.372605</td>\n",
              "    </tr>\n",
              "    <tr>\n",
              "      <th>previous</th>\n",
              "      <td>0.024365</td>\n",
              "      <td>0.020965</td>\n",
              "      <td>0.038689</td>\n",
              "      <td>0.038831</td>\n",
              "      <td>-0.102416</td>\n",
              "      <td>0.021314</td>\n",
              "      <td>-0.001327</td>\n",
              "      <td>-0.212848</td>\n",
              "      <td>0.103157</td>\n",
              "      <td>-0.004102</td>\n",
              "      <td>0.020640</td>\n",
              "      <td>-0.079141</td>\n",
              "      <td>-0.587514</td>\n",
              "      <td>1.000000</td>\n",
              "      <td>-0.313110</td>\n",
              "      <td>-0.420489</td>\n",
              "      <td>-0.203130</td>\n",
              "      <td>-0.050936</td>\n",
              "      <td>-0.454494</td>\n",
              "      <td>-0.501333</td>\n",
              "    </tr>\n",
              "    <tr>\n",
              "      <th>poutcome</th>\n",
              "      <td>0.019750</td>\n",
              "      <td>0.011504</td>\n",
              "      <td>0.001912</td>\n",
              "      <td>0.017009</td>\n",
              "      <td>0.023417</td>\n",
              "      <td>-0.011783</td>\n",
              "      <td>-0.001511</td>\n",
              "      <td>0.118744</td>\n",
              "      <td>-0.065012</td>\n",
              "      <td>0.018732</td>\n",
              "      <td>0.033360</td>\n",
              "      <td>0.032586</td>\n",
              "      <td>-0.475619</td>\n",
              "      <td>-0.313110</td>\n",
              "      <td>1.000000</td>\n",
              "      <td>0.192972</td>\n",
              "      <td>0.211330</td>\n",
              "      <td>0.178289</td>\n",
              "      <td>0.184144</td>\n",
              "      <td>0.119689</td>\n",
              "    </tr>\n",
              "    <tr>\n",
              "      <th>emp.var.rate</th>\n",
              "      <td>-0.000371</td>\n",
              "      <td>-0.008271</td>\n",
              "      <td>-0.084210</td>\n",
              "      <td>-0.043778</td>\n",
              "      <td>0.203263</td>\n",
              "      <td>-0.060196</td>\n",
              "      <td>0.001849</td>\n",
              "      <td>0.393584</td>\n",
              "      <td>-0.178782</td>\n",
              "      <td>0.033245</td>\n",
              "      <td>-0.027968</td>\n",
              "      <td>0.150754</td>\n",
              "      <td>0.271004</td>\n",
              "      <td>-0.420489</td>\n",
              "      <td>0.192972</td>\n",
              "      <td>1.000000</td>\n",
              "      <td>0.775334</td>\n",
              "      <td>0.196041</td>\n",
              "      <td>0.972245</td>\n",
              "      <td>0.906970</td>\n",
              "    </tr>\n",
              "    <tr>\n",
              "      <th>cons.price.idx</th>\n",
              "      <td>0.000857</td>\n",
              "      <td>-0.016017</td>\n",
              "      <td>-0.057477</td>\n",
              "      <td>-0.081607</td>\n",
              "      <td>0.168073</td>\n",
              "      <td>-0.080504</td>\n",
              "      <td>-0.002430</td>\n",
              "      <td>0.591474</td>\n",
              "      <td>-0.004239</td>\n",
              "      <td>0.005644</td>\n",
              "      <td>0.005312</td>\n",
              "      <td>0.127836</td>\n",
              "      <td>0.078889</td>\n",
              "      <td>-0.203130</td>\n",
              "      <td>0.211330</td>\n",
              "      <td>0.775334</td>\n",
              "      <td>1.000000</td>\n",
              "      <td>0.058986</td>\n",
              "      <td>0.688230</td>\n",
              "      <td>0.522034</td>\n",
              "    </tr>\n",
              "    <tr>\n",
              "      <th>cons.conf.idx</th>\n",
              "      <td>0.129372</td>\n",
              "      <td>0.052760</td>\n",
              "      <td>-0.033783</td>\n",
              "      <td>0.078799</td>\n",
              "      <td>0.026522</td>\n",
              "      <td>-0.033845</td>\n",
              "      <td>-0.012025</td>\n",
              "      <td>0.251614</td>\n",
              "      <td>0.009652</td>\n",
              "      <td>0.041465</td>\n",
              "      <td>-0.008173</td>\n",
              "      <td>-0.013733</td>\n",
              "      <td>-0.091342</td>\n",
              "      <td>-0.050936</td>\n",
              "      <td>0.178289</td>\n",
              "      <td>0.196041</td>\n",
              "      <td>0.058986</td>\n",
              "      <td>1.000000</td>\n",
              "      <td>0.277686</td>\n",
              "      <td>0.100513</td>\n",
              "    </tr>\n",
              "    <tr>\n",
              "      <th>euribor3m</th>\n",
              "      <td>0.010767</td>\n",
              "      <td>-0.007880</td>\n",
              "      <td>-0.091939</td>\n",
              "      <td>-0.036380</td>\n",
              "      <td>0.195336</td>\n",
              "      <td>-0.059277</td>\n",
              "      <td>0.000125</td>\n",
              "      <td>0.399773</td>\n",
              "      <td>-0.117264</td>\n",
              "      <td>0.039043</td>\n",
              "      <td>-0.032897</td>\n",
              "      <td>0.135133</td>\n",
              "      <td>0.296899</td>\n",
              "      <td>-0.454494</td>\n",
              "      <td>0.184144</td>\n",
              "      <td>0.972245</td>\n",
              "      <td>0.688230</td>\n",
              "      <td>0.277686</td>\n",
              "      <td>1.000000</td>\n",
              "      <td>0.945154</td>\n",
              "    </tr>\n",
              "    <tr>\n",
              "      <th>nr.employed</th>\n",
              "      <td>-0.017725</td>\n",
              "      <td>-0.019574</td>\n",
              "      <td>-0.086199</td>\n",
              "      <td>-0.041492</td>\n",
              "      <td>0.189845</td>\n",
              "      <td>-0.045862</td>\n",
              "      <td>0.003903</td>\n",
              "      <td>0.269155</td>\n",
              "      <td>-0.221425</td>\n",
              "      <td>0.028380</td>\n",
              "      <td>-0.044703</td>\n",
              "      <td>0.144095</td>\n",
              "      <td>0.372605</td>\n",
              "      <td>-0.501333</td>\n",
              "      <td>0.119689</td>\n",
              "      <td>0.906970</td>\n",
              "      <td>0.522034</td>\n",
              "      <td>0.100513</td>\n",
              "      <td>0.945154</td>\n",
              "      <td>1.000000</td>\n",
              "    </tr>\n",
              "  </tbody>\n",
              "</table>\n",
              "</div>\n",
              "      <button class=\"colab-df-convert\" onclick=\"convertToInteractive('df-0da7a6fd-c2fd-452b-8f18-bab24823af9f')\"\n",
              "              title=\"Convert this dataframe to an interactive table.\"\n",
              "              style=\"display:none;\">\n",
              "        \n",
              "  <svg xmlns=\"http://www.w3.org/2000/svg\" height=\"24px\"viewBox=\"0 0 24 24\"\n",
              "       width=\"24px\">\n",
              "    <path d=\"M0 0h24v24H0V0z\" fill=\"none\"/>\n",
              "    <path d=\"M18.56 5.44l.94 2.06.94-2.06 2.06-.94-2.06-.94-.94-2.06-.94 2.06-2.06.94zm-11 1L8.5 8.5l.94-2.06 2.06-.94-2.06-.94L8.5 2.5l-.94 2.06-2.06.94zm10 10l.94 2.06.94-2.06 2.06-.94-2.06-.94-.94-2.06-.94 2.06-2.06.94z\"/><path d=\"M17.41 7.96l-1.37-1.37c-.4-.4-.92-.59-1.43-.59-.52 0-1.04.2-1.43.59L10.3 9.45l-7.72 7.72c-.78.78-.78 2.05 0 2.83L4 21.41c.39.39.9.59 1.41.59.51 0 1.02-.2 1.41-.59l7.78-7.78 2.81-2.81c.8-.78.8-2.07 0-2.86zM5.41 20L4 18.59l7.72-7.72 1.47 1.35L5.41 20z\"/>\n",
              "  </svg>\n",
              "      </button>\n",
              "      \n",
              "  <style>\n",
              "    .colab-df-container {\n",
              "      display:flex;\n",
              "      flex-wrap:wrap;\n",
              "      gap: 12px;\n",
              "    }\n",
              "\n",
              "    .colab-df-convert {\n",
              "      background-color: #E8F0FE;\n",
              "      border: none;\n",
              "      border-radius: 50%;\n",
              "      cursor: pointer;\n",
              "      display: none;\n",
              "      fill: #1967D2;\n",
              "      height: 32px;\n",
              "      padding: 0 0 0 0;\n",
              "      width: 32px;\n",
              "    }\n",
              "\n",
              "    .colab-df-convert:hover {\n",
              "      background-color: #E2EBFA;\n",
              "      box-shadow: 0px 1px 2px rgba(60, 64, 67, 0.3), 0px 1px 3px 1px rgba(60, 64, 67, 0.15);\n",
              "      fill: #174EA6;\n",
              "    }\n",
              "\n",
              "    [theme=dark] .colab-df-convert {\n",
              "      background-color: #3B4455;\n",
              "      fill: #D2E3FC;\n",
              "    }\n",
              "\n",
              "    [theme=dark] .colab-df-convert:hover {\n",
              "      background-color: #434B5C;\n",
              "      box-shadow: 0px 1px 3px 1px rgba(0, 0, 0, 0.15);\n",
              "      filter: drop-shadow(0px 1px 2px rgba(0, 0, 0, 0.3));\n",
              "      fill: #FFFFFF;\n",
              "    }\n",
              "  </style>\n",
              "\n",
              "      <script>\n",
              "        const buttonEl =\n",
              "          document.querySelector('#df-0da7a6fd-c2fd-452b-8f18-bab24823af9f button.colab-df-convert');\n",
              "        buttonEl.style.display =\n",
              "          google.colab.kernel.accessAllowed ? 'block' : 'none';\n",
              "\n",
              "        async function convertToInteractive(key) {\n",
              "          const element = document.querySelector('#df-0da7a6fd-c2fd-452b-8f18-bab24823af9f');\n",
              "          const dataTable =\n",
              "            await google.colab.kernel.invokeFunction('convertToInteractive',\n",
              "                                                     [key], {});\n",
              "          if (!dataTable) return;\n",
              "\n",
              "          const docLinkHtml = 'Like what you see? Visit the ' +\n",
              "            '<a target=\"_blank\" href=https://colab.research.google.com/notebooks/data_table.ipynb>data table notebook</a>'\n",
              "            + ' to learn more about interactive tables.';\n",
              "          element.innerHTML = '';\n",
              "          dataTable['output_type'] = 'display_data';\n",
              "          await google.colab.output.renderOutput(dataTable, element);\n",
              "          const docLink = document.createElement('div');\n",
              "          docLink.innerHTML = docLinkHtml;\n",
              "          element.appendChild(docLink);\n",
              "        }\n",
              "      </script>\n",
              "    </div>\n",
              "  </div>\n",
              "  "
            ]
          },
          "metadata": {},
          "execution_count": 18
        }
      ]
    },
    {
      "cell_type": "markdown",
      "source": [
        "**c. Feature selection using Random Forest**\n",
        "\n",
        "---\n",
        "\n"
      ],
      "metadata": {
        "id": "tEMf4x9VFqAM"
      }
    },
    {
      "cell_type": "code",
      "source": [
        "from sklearn.ensemble import RandomForestClassifier\n",
        "from sklearn.model_selection import train_test_split\n"
      ],
      "metadata": {
        "id": "57IOJwPeH2zC"
      },
      "execution_count": null,
      "outputs": []
    },
    {
      "cell_type": "code",
      "source": [
        "X = df.drop(['y'], axis=1)\n",
        "\n",
        "y = df['y']"
      ],
      "metadata": {
        "id": "DBzAyCWDHxmZ"
      },
      "execution_count": null,
      "outputs": []
    },
    {
      "cell_type": "code",
      "source": [
        "X_train, X_test, y_train, y_test = train_test_split(X, y, test_size = 0.3, random_state = 0)\n"
      ],
      "metadata": {
        "id": "BZ-GokEZF8iL"
      },
      "execution_count": null,
      "outputs": []
    },
    {
      "cell_type": "code",
      "source": [
        "clf = RandomForestClassifier(n_estimators=100, random_state=0)\n",
        "# fit the model to the training set\n",
        "clf.fit(X_train, y_train)"
      ],
      "metadata": {
        "colab": {
          "base_uri": "https://localhost:8080/"
        },
        "id": "5PfjRp02HnOJ",
        "outputId": "a5b558f4-4a31-4e92-a849-3dde918355e8"
      },
      "execution_count": null,
      "outputs": [
        {
          "output_type": "execute_result",
          "data": {
            "text/plain": [
              "RandomForestClassifier(random_state=0)"
            ]
          },
          "metadata": {},
          "execution_count": 22
        }
      ]
    },
    {
      "cell_type": "code",
      "source": [
        "# view the feature scores\n",
        "feature_scores = pd.Series(clf.feature_importances_, index=X_train.columns).sort_values(ascending=False)\n",
        "feature_scores\n"
      ],
      "metadata": {
        "colab": {
          "base_uri": "https://localhost:8080/"
        },
        "id": "o1puPyIJIJNi",
        "outputId": "fcc493bc-8bfc-46aa-a8ed-f9bd7e88cf54"
      },
      "execution_count": null,
      "outputs": [
        {
          "output_type": "execute_result",
          "data": {
            "text/plain": [
              "duration          0.313343\n",
              "euribor3m         0.124483\n",
              "age               0.091003\n",
              "nr.employed       0.065146\n",
              "job               0.049226\n",
              "education         0.044285\n",
              "campaign          0.042218\n",
              "day_of_week       0.040921\n",
              "pdays             0.032225\n",
              "marital           0.025055\n",
              "poutcome          0.024655\n",
              "cons.conf.idx     0.024505\n",
              "cons.price.idx    0.022592\n",
              "housing           0.020324\n",
              "month             0.019143\n",
              "emp.var.rate      0.015127\n",
              "loan              0.015051\n",
              "previous          0.012656\n",
              "contact           0.009585\n",
              "default           0.008458\n",
              "dtype: float64"
            ]
          },
          "metadata": {},
          "execution_count": 23
        }
      ]
    },
    {
      "cell_type": "markdown",
      "source": [
        "**The most important feature is duration  and least important feature is default**"
      ],
      "metadata": {
        "id": "JLmib7fkIO7R"
      }
    },
    {
      "cell_type": "code",
      "source": [
        "# Displaying top most important features of the dataset\n",
        "feature_scores.head(5)\n"
      ],
      "metadata": {
        "colab": {
          "base_uri": "https://localhost:8080/"
        },
        "id": "0WRnMS-lPhI4",
        "outputId": "4c8ab89a-90f3-4be5-d008-ce504897dfdd"
      },
      "execution_count": null,
      "outputs": [
        {
          "output_type": "execute_result",
          "data": {
            "text/plain": [
              "duration       0.313343\n",
              "euribor3m      0.124483\n",
              "age            0.091003\n",
              "nr.employed    0.065146\n",
              "job            0.049226\n",
              "dtype: float64"
            ]
          },
          "metadata": {},
          "execution_count": 24
        }
      ]
    },
    {
      "cell_type": "markdown",
      "source": [
        "**d. Handling unbalanced data using SMOTE**\n",
        "\n",
        "---\n",
        "\n"
      ],
      "metadata": {
        "id": "StVwIrmMJU-C"
      }
    },
    {
      "cell_type": "code",
      "source": [
        "plt.figure(figsize=(7,7))\n",
        "#checking for the distribution of samples in the dataset\n",
        "plt.title('Distribution of samples in the dataset')\n",
        "sns.countplot(x='y',data=df,palette='autumn')\n",
        "plt.xlabel('Term deposit')\n",
        "plt.ylabel('No. of Clients')\n",
        "plt.show()"
      ],
      "metadata": {
        "colab": {
          "base_uri": "https://localhost:8080/",
          "height": 458
        },
        "id": "8eB1hEH2IWxC",
        "outputId": "8a85d0c9-dcaa-4970-bc0d-dd01206c462d"
      },
      "execution_count": null,
      "outputs": [
        {
          "output_type": "display_data",
          "data": {
            "text/plain": [
              "<Figure size 504x504 with 1 Axes>"
            ],
            "image/png": "[encoded data removed]"
          },
          "metadata": {}
        }
      ]
    },
    {
      "cell_type": "markdown",
      "source": [
        "**From the above plot, it is evident that the dataset is highly imbalanced as  there are unequal distribution of classes within a dataset.**"
      ],
      "metadata": {
        "id": "gNGlQuxRJtLh"
      }
    },
    {
      "cell_type": "code",
      "source": [
        "pip install imblearn"
      ],
      "metadata": {
        "colab": {
          "base_uri": "https://localhost:8080/"
        },
        "id": "8mBWchbjMZoK",
        "outputId": "ec2fcb80-6eb2-4aaf-99ae-6551843defae"
      },
      "execution_count": null,
      "outputs": [
        {
          "output_type": "stream",
          "name": "stdout",
          "text": [
            "Requirement already satisfied: imblearn in /usr/local/lib/python3.7/dist-packages (0.0)\n",
            "Requirement already satisfied: imbalanced-learn in /usr/local/lib/python3.7/dist-packages (from imblearn) (0.8.1)\n",
            "Requirement already satisfied: numpy>=1.13.3 in /usr/local/lib/python3.7/dist-packages (from imbalanced-learn->imblearn) (1.21.6)\n",
            "Requirement already satisfied: joblib>=0.11 in /usr/local/lib/python3.7/dist-packages (from imbalanced-learn->imblearn) (1.1.0)\n",
            "Requirement already satisfied: scikit-learn>=0.24 in /usr/local/lib/python3.7/dist-packages (from imbalanced-learn->imblearn) (1.0.2)\n",
            "Requirement already satisfied: scipy>=0.19.1 in /usr/local/lib/python3.7/dist-packages (from imbalanced-learn->imblearn) (1.4.1)\n",
            "Requirement already satisfied: threadpoolctl>=2.0.0 in /usr/local/lib/python3.7/dist-packages (from scikit-learn>=0.24->imbalanced-learn->imblearn) (3.1.0)\n"
          ]
        }
      ]
    },
    {
      "cell_type": "code",
      "source": [
        "import collections"
      ],
      "metadata": {
        "id": "KxMFhzZmMvPK"
      },
      "execution_count": null,
      "outputs": []
    },
    {
      "cell_type": "code",
      "source": [
        "X_train.shape"
      ],
      "metadata": {
        "colab": {
          "base_uri": "https://localhost:8080/"
        },
        "id": "h5ZtThYxN7nn",
        "outputId": "609378d7-5307-4c28-ea15-aa768ce7f78d"
      },
      "execution_count": null,
      "outputs": [
        {
          "output_type": "execute_result",
          "data": {
            "text/plain": [
              "(28831, 20)"
            ]
          },
          "metadata": {},
          "execution_count": 28
        }
      ]
    },
    {
      "cell_type": "code",
      "source": [
        "from imblearn.over_sampling import SMOTE\n",
        "counter=collections.Counter(y_train)\n",
        "print('Before Sampling',counter)\n",
        "smt=SMOTE()\n",
        "X_train_smote,y_train_smote=smt.fit_resample(X_train,y_train)\n",
        "counter=collections.Counter(y_train_smote)\n",
        "print('After Sampling',counter)"
      ],
      "metadata": {
        "colab": {
          "base_uri": "https://localhost:8080/"
        },
        "id": "wbFiNeu7LCxB",
        "outputId": "eaf8eb9b-eacf-4ab1-c1c4-c80ff761124a"
      },
      "execution_count": null,
      "outputs": [
        {
          "output_type": "stream",
          "name": "stdout",
          "text": [
            "Before Sampling Counter({'no': 25579, 'yes': 3252})\n",
            "After Sampling Counter({'no': 25579, 'yes': 25579})\n"
          ]
        }
      ]
    },
    {
      "cell_type": "markdown",
      "source": [
        "**e. Feature Scaling**\n",
        "\n",
        "---\n",
        "\n"
      ],
      "metadata": {
        "id": "OjXg503jPsBG"
      }
    },
    {
      "cell_type": "code",
      "source": [
        "from sklearn.preprocessing import StandardScaler\n",
        "st_x= StandardScaler()    \n",
        "x_train_smote= st_x.fit_transform(X_train_smote)    \n",
        "x_test= st_x.transform(X_test)"
      ],
      "metadata": {
        "id": "B07e6lwtN3to"
      },
      "execution_count": null,
      "outputs": []
    },
    {
      "cell_type": "markdown",
      "source": [
        "##**Q.3 Building the model**\n",
        "\n",
        "---\n",
        "\n",
        "\n",
        "In this we will build several classification model on the same dataset and finally we will find which model yields the best score.\n",
        "\n",
        "1. Logistic Regression\n",
        "2. AdaBoost\n",
        "3. Naive Bayes\n",
        "4. KNN\n",
        "5. SVM"
      ],
      "metadata": {
        "id": "yOWKOazCQntB"
      }
    },
    {
      "cell_type": "markdown",
      "source": [
        "**1. Logistic Regression**\n",
        "\n"
      ],
      "metadata": {
        "id": "kSCVzudBRbyH"
      }
    },
    {
      "cell_type": "code",
      "source": [
        "from sklearn.linear_model import LogisticRegression"
      ],
      "metadata": {
        "id": "Xjq3J2QaTFrN"
      },
      "execution_count": null,
      "outputs": []
    },
    {
      "cell_type": "code",
      "source": [
        "Logistic_model=LogisticRegression()\n",
        "Logistic_model.fit(x_train_smote,y_train_smote)"
      ],
      "metadata": {
        "colab": {
          "base_uri": "https://localhost:8080/"
        },
        "id": "hI1Xbp8SQfxm",
        "outputId": "cee6d4d2-c25e-4770-de2f-88eb88b37171"
      },
      "execution_count": null,
      "outputs": [
        {
          "output_type": "execute_result",
          "data": {
            "text/plain": [
              "LogisticRegression()"
            ]
          },
          "metadata": {},
          "execution_count": 32
        }
      ]
    },
    {
      "cell_type": "code",
      "source": [
        "Logistic_model.score(x_train_smote, y_train_smote)"
      ],
      "metadata": {
        "colab": {
          "base_uri": "https://localhost:8080/"
        },
        "id": "ZmJeAFiGS8w8",
        "outputId": "1eb63664-5e1a-4a6d-a854-24791228f370"
      },
      "execution_count": null,
      "outputs": [
        {
          "output_type": "execute_result",
          "data": {
            "text/plain": [
              "0.883048594550217"
            ]
          },
          "metadata": {},
          "execution_count": 33
        }
      ]
    },
    {
      "cell_type": "code",
      "source": [
        "predict_test = Logistic_model.predict(x_test)"
      ],
      "metadata": {
        "id": "dxIvpW8yZkp7"
      },
      "execution_count": null,
      "outputs": []
    },
    {
      "cell_type": "code",
      "source": [
        "accuracy_test = accuracy_score(y_test,predict_test)\n",
        "\n",
        "print('accuracy score on test dataset : ', accuracy_test)"
      ],
      "metadata": {
        "colab": {
          "base_uri": "https://localhost:8080/"
        },
        "id": "b8eoHRezZpRT",
        "outputId": "bfc96bdd-5279-45b9-9614-5e0928912a7d"
      },
      "execution_count": null,
      "outputs": [
        {
          "output_type": "stream",
          "name": "stdout",
          "text": [
            "accuracy score on test dataset :  0.8689811442906854\n"
          ]
        }
      ]
    },
    {
      "cell_type": "markdown",
      "source": [
        "**Performance Metrics**"
      ],
      "metadata": {
        "id": "cnhldcHDbWwK"
      }
    },
    {
      "cell_type": "code",
      "source": [
        "from sklearn.metrics import classification_report\n",
        "\n",
        "print(classification_report(y_test, predict_test))"
      ],
      "metadata": {
        "colab": {
          "base_uri": "https://localhost:8080/"
        },
        "id": "xQkYTJUfZfKz",
        "outputId": "ca1baec7-f293-4ec7-b696-274756459128"
      },
      "execution_count": null,
      "outputs": [
        {
          "output_type": "stream",
          "name": "stdout",
          "text": [
            "              precision    recall  f1-score   support\n",
            "\n",
            "          no       0.97      0.88      0.92     10969\n",
            "         yes       0.45      0.79      0.58      1388\n",
            "\n",
            "    accuracy                           0.87     12357\n",
            "   macro avg       0.71      0.84      0.75     12357\n",
            "weighted avg       0.91      0.87      0.88     12357\n",
            "\n"
          ]
        }
      ]
    },
    {
      "cell_type": "markdown",
      "source": [
        "**Confusion Matrix**\n"
      ],
      "metadata": {
        "id": "QmbKwtn-bTj_"
      }
    },
    {
      "cell_type": "code",
      "source": [
        "from sklearn.metrics import confusion_matrix\n",
        "confusion_matrix(y_test,predict_test)"
      ],
      "metadata": {
        "colab": {
          "base_uri": "https://localhost:8080/"
        },
        "id": "5hfj4X_RbTa6",
        "outputId": "03d87923-1613-4124-cfc2-8349bee90947"
      },
      "execution_count": null,
      "outputs": [
        {
          "output_type": "execute_result",
          "data": {
            "text/plain": [
              "array([[9637, 1332],\n",
              "       [ 287, 1101]])"
            ]
          },
          "metadata": {},
          "execution_count": 60
        }
      ]
    },
    {
      "cell_type": "markdown",
      "source": [
        "TruePostive = 9637\n",
        "\n",
        "TrueNegative = 1101\n",
        "\n",
        "FalsePositive = 287\n",
        "\n",
        "FalseNegative = 1332"
      ],
      "metadata": {
        "id": "hp2hdSjRbzAB"
      }
    },
    {
      "cell_type": "code",
      "source": [
        "from sklearn import metrics\n",
        "cm=metrics.confusion_matrix(y_test,predict_test)\n",
        "\n",
        "df_cm = pd.DataFrame(cm, index = [i for i in [\"yes\",\"no\"]],\n",
        "                  columns = [i for i in [\"Predict 1\",\"Predict 0\"]])\n",
        "plt.figure(figsize = (7,5))\n",
        "sns.heatmap(df_cm,annot=True,fmt='g')"
      ],
      "metadata": {
        "colab": {
          "base_uri": "https://localhost:8080/",
          "height": 337
        },
        "id": "ALdbznLHb8qp",
        "outputId": "f780af7f-1bb9-4350-b765-3b0d12488e41"
      },
      "execution_count": null,
      "outputs": [
        {
          "output_type": "execute_result",
          "data": {
            "text/plain": [
              "<matplotlib.axes._subplots.AxesSubplot at 0x7f0022ede910>"
            ]
          },
          "metadata": {},
          "execution_count": 63
        },
        {
          "output_type": "display_data",
          "data": {
            "text/plain": [
              "<Figure size 504x360 with 2 Axes>"
            ],
            "image/png": "[encoded data removed]"
          },
          "metadata": {}
        }
      ]
    },
    {
      "cell_type": "markdown",
      "source": [
        "**2. AdaBoost**\n"
      ],
      "metadata": {
        "id": "ZV_QlZU8TiI9"
      }
    },
    {
      "cell_type": "code",
      "source": [
        "from sklearn.ensemble import AdaBoostClassifier\n",
        "ada=AdaBoostClassifier(n_estimators=150, learning_rate=1, random_state=0)\n",
        "\n",
        "# Train Adaboost Classifer\n",
        "adaboost_model = ada.fit(x_train_smote, y_train_smote)\n",
        "\n",
        "y_pred = adaboost_model.predict(x_test)\n"
      ],
      "metadata": {
        "id": "83db0Ub_TgI9"
      },
      "execution_count": null,
      "outputs": []
    },
    {
      "cell_type": "code",
      "source": [
        "from sklearn.metrics import accuracy_score\n",
        "accuracy_test_ada = accuracy_score(y_test,predict_test)\n",
        "print(\"AdaBoost Classifier Model Accuracy:\", accuracy_score(y_test, y_pred))"
      ],
      "metadata": {
        "colab": {
          "base_uri": "https://localhost:8080/"
        },
        "id": "5d-EQd4cUVlV",
        "outputId": "d8fd678a-5679-41c2-e9be-4b16c1f9ae06"
      },
      "execution_count": null,
      "outputs": [
        {
          "output_type": "stream",
          "name": "stdout",
          "text": [
            "AdaBoost Classifier Model Accuracy: 0.8880796309783928\n"
          ]
        }
      ]
    },
    {
      "cell_type": "code",
      "source": [
        "from sklearn.metrics import classification_report\n",
        "\n",
        "print(classification_report(y_test, y_pred))"
      ],
      "metadata": {
        "colab": {
          "base_uri": "https://localhost:8080/"
        },
        "id": "j8dcewq7Z9gM",
        "outputId": "bbd9a19e-1c32-4533-b99a-bd8b7eb8d3e3"
      },
      "execution_count": null,
      "outputs": [
        {
          "output_type": "stream",
          "name": "stdout",
          "text": [
            "              precision    recall  f1-score   support\n",
            "\n",
            "          no       0.94      0.97      0.95     10969\n",
            "         yes       0.68      0.50      0.58      1388\n",
            "\n",
            "    accuracy                           0.92     12357\n",
            "   macro avg       0.81      0.74      0.77     12357\n",
            "weighted avg       0.91      0.92      0.91     12357\n",
            "\n"
          ]
        }
      ]
    },
    {
      "cell_type": "code",
      "source": [
        "from sklearn.metrics import confusion_matrix\n",
        "confusion_matrix(y_test,y_pred)"
      ],
      "metadata": {
        "colab": {
          "base_uri": "https://localhost:8080/"
        },
        "id": "guiSH9FscL36",
        "outputId": "7d45d45c-521a-4049-bc2b-db527e14d10a"
      },
      "execution_count": null,
      "outputs": [
        {
          "output_type": "execute_result",
          "data": {
            "text/plain": [
              "array([[10640,   329],\n",
              "       [  693,   695]])"
            ]
          },
          "metadata": {},
          "execution_count": 64
        }
      ]
    },
    {
      "cell_type": "markdown",
      "source": [
        "TruePostive = 10640\n",
        "\n",
        "TrueNegative =695\n",
        "\n",
        "FalsePositive = 693\n",
        "\n",
        "FalseNegative = 329"
      ],
      "metadata": {
        "id": "wkVh1m3ScQ3q"
      }
    },
    {
      "cell_type": "markdown",
      "source": [
        "**3. Naive Bayes Classifier**"
      ],
      "metadata": {
        "id": "eQQI5IETUpP7"
      }
    },
    {
      "cell_type": "code",
      "source": [
        "from sklearn.naive_bayes import GaussianNB\n",
        "nb_model = GaussianNB()\n",
        "\n",
        "# fit the model with the training data\n",
        "nb_model.fit(x_train_smote,y_train_smote)\n",
        "\n"
      ],
      "metadata": {
        "colab": {
          "base_uri": "https://localhost:8080/"
        },
        "id": "sAChJnZ3YbiD",
        "outputId": "2171ab49-4f28-4396-c0c6-8de4d0166be2"
      },
      "execution_count": null,
      "outputs": [
        {
          "output_type": "execute_result",
          "data": {
            "text/plain": [
              "GaussianNB()"
            ]
          },
          "metadata": {},
          "execution_count": 48
        }
      ]
    },
    {
      "cell_type": "code",
      "source": [
        "predict_test = nb_model.predict(x_test)\n"
      ],
      "metadata": {
        "id": "rJGPBZylYy7X"
      },
      "execution_count": null,
      "outputs": []
    },
    {
      "cell_type": "code",
      "source": [
        "accuracy_test_nb = accuracy_score(y_test,predict_test)\n",
        "\n",
        "print('accuracy score on test dataset : ', accuracy_test_nb)"
      ],
      "metadata": {
        "colab": {
          "base_uri": "https://localhost:8080/"
        },
        "id": "0T5tCQKwY4Iz",
        "outputId": "59c8553c-3284-415d-c3de-2199ca71ccc0"
      },
      "execution_count": null,
      "outputs": [
        {
          "output_type": "stream",
          "name": "stdout",
          "text": [
            "accuracy score on test dataset :  0.7789916646435219\n"
          ]
        }
      ]
    },
    {
      "cell_type": "code",
      "source": [
        "from sklearn.metrics import classification_report\n",
        "\n",
        "print(classification_report(y_test,predict_test ))"
      ],
      "metadata": {
        "colab": {
          "base_uri": "https://localhost:8080/"
        },
        "id": "Sh8GsjS3cvD6",
        "outputId": "a5b40730-9305-4e64-b5de-a5824e1ebdfc"
      },
      "execution_count": null,
      "outputs": [
        {
          "output_type": "stream",
          "name": "stdout",
          "text": [
            "              precision    recall  f1-score   support\n",
            "\n",
            "          no       0.97      0.88      0.92     10969\n",
            "         yes       0.45      0.79      0.58      1388\n",
            "\n",
            "    accuracy                           0.87     12357\n",
            "   macro avg       0.71      0.84      0.75     12357\n",
            "weighted avg       0.91      0.87      0.88     12357\n",
            "\n"
          ]
        }
      ]
    },
    {
      "cell_type": "markdown",
      "source": [
        "**4. KNN**"
      ],
      "metadata": {
        "id": "2j9quZdFU_19"
      }
    },
    {
      "cell_type": "code",
      "source": [
        "from sklearn.neighbors import KNeighborsClassifier"
      ],
      "metadata": {
        "id": "6u9A8oJgVepM"
      },
      "execution_count": null,
      "outputs": []
    },
    {
      "cell_type": "code",
      "source": [
        "knn_model = KNeighborsClassifier(n_neighbors=45,metric='euclidean' )"
      ],
      "metadata": {
        "id": "BbA-mkQYUuZj"
      },
      "execution_count": null,
      "outputs": []
    },
    {
      "cell_type": "code",
      "source": [
        "knn_model.fit(x_train_smote, y_train_smote)"
      ],
      "metadata": {
        "colab": {
          "base_uri": "https://localhost:8080/"
        },
        "id": "UMb3x_G4Uue9",
        "outputId": "45a02766-3696-4185-d4d8-39862d55a25c"
      },
      "execution_count": null,
      "outputs": [
        {
          "output_type": "execute_result",
          "data": {
            "text/plain": [
              "KNeighborsClassifier(metric='euclidean', n_neighbors=45)"
            ]
          },
          "metadata": {},
          "execution_count": 39
        }
      ]
    },
    {
      "cell_type": "code",
      "source": [
        "knn_model.score(x_train_smote, y_train_smote)"
      ],
      "metadata": {
        "colab": {
          "base_uri": "https://localhost:8080/"
        },
        "id": "M0u3ZhFdVRP1",
        "outputId": "aace1b8e-6d7d-4ec5-de07-3d1ea9b263b1"
      },
      "execution_count": null,
      "outputs": [
        {
          "output_type": "execute_result",
          "data": {
            "text/plain": [
              "0.901716251612651"
            ]
          },
          "metadata": {},
          "execution_count": 40
        }
      ]
    },
    {
      "cell_type": "code",
      "source": [
        "knn_model.score(x_test, y_test)"
      ],
      "metadata": {
        "colab": {
          "base_uri": "https://localhost:8080/"
        },
        "id": "KtfgQdDqVTiU",
        "outputId": "20cc6ed3-40a8-4de9-c8db-5fd114436e38"
      },
      "execution_count": null,
      "outputs": [
        {
          "output_type": "execute_result",
          "data": {
            "text/plain": [
              "0.8654204094845027"
            ]
          },
          "metadata": {},
          "execution_count": 41
        }
      ]
    },
    {
      "cell_type": "code",
      "source": [
        "y_pred_knn=clf.predict(x_test)\n",
        "accuracy_test_knn = accuracy_score(y_test,predict_test)\n",
        "accuracy_score(y_test,y_pred_knn)"
      ],
      "metadata": {
        "colab": {
          "base_uri": "https://localhost:8080/"
        },
        "id": "oABPhMR2f9Fo",
        "outputId": "5457056e-2bad-486a-e3a9-3e0040656ccb"
      },
      "execution_count": null,
      "outputs": [
        {
          "output_type": "stream",
          "name": "stderr",
          "text": [
            "/usr/local/lib/python3.7/dist-packages/sklearn/base.py:451: UserWarning: X does not have valid feature names, but RandomForestClassifier was fitted with feature names\n",
            "  \"X does not have valid feature names, but\"\n"
          ]
        },
        {
          "output_type": "execute_result",
          "data": {
            "text/plain": [
              "0.8880796309783928"
            ]
          },
          "metadata": {},
          "execution_count": 83
        }
      ]
    },
    {
      "cell_type": "code",
      "source": [
        "from sklearn.metrics import classification_report\n",
        "\n",
        "print(classification_report(y_test,y_pred_knn))"
      ],
      "metadata": {
        "colab": {
          "base_uri": "https://localhost:8080/"
        },
        "id": "EJh6riaogcmo",
        "outputId": "a0b76128-1706-481f-a8ed-6ab8b8266cba"
      },
      "execution_count": null,
      "outputs": [
        {
          "output_type": "stream",
          "name": "stdout",
          "text": [
            "              precision    recall  f1-score   support\n",
            "\n",
            "          no       0.89      1.00      0.94     10969\n",
            "         yes       0.59      0.01      0.02      1388\n",
            "\n",
            "    accuracy                           0.89     12357\n",
            "   macro avg       0.74      0.51      0.48     12357\n",
            "weighted avg       0.85      0.89      0.84     12357\n",
            "\n"
          ]
        }
      ]
    },
    {
      "cell_type": "markdown",
      "source": [
        "**5. SVM**"
      ],
      "metadata": {
        "id": "thafoCwuVq3-"
      }
    },
    {
      "cell_type": "code",
      "source": [
        "from sklearn import svm"
      ],
      "metadata": {
        "id": "4kB9noiqVv4V"
      },
      "execution_count": null,
      "outputs": []
    },
    {
      "cell_type": "code",
      "source": [
        "svc_model=svm.SVC()"
      ],
      "metadata": {
        "id": "QOgJgyb7WBU4"
      },
      "execution_count": null,
      "outputs": []
    },
    {
      "cell_type": "code",
      "source": [
        "svc_model.fit(x_train_smote,y_train_smote)\n"
      ],
      "metadata": {
        "colab": {
          "base_uri": "https://localhost:8080/"
        },
        "id": "xte1g3eYWSGc",
        "outputId": "9bf42be8-86fb-4e39-9a9b-099796254c31"
      },
      "execution_count": null,
      "outputs": [
        {
          "output_type": "execute_result",
          "data": {
            "text/plain": [
              "SVC()"
            ]
          },
          "metadata": {},
          "execution_count": 44
        }
      ]
    },
    {
      "cell_type": "code",
      "source": [
        "y_pred=clf.predict(x_test)\n",
        "\n",
        "accuracy_score(y_test,y_pred)\n"
      ],
      "metadata": {
        "colab": {
          "base_uri": "https://localhost:8080/"
        },
        "id": "dVTLedcNWzWj",
        "outputId": "44caf2a5-1b1e-420b-d74e-32496a516d27"
      },
      "execution_count": null,
      "outputs": [
        {
          "output_type": "stream",
          "name": "stderr",
          "text": [
            "/usr/local/lib/python3.7/dist-packages/sklearn/base.py:451: UserWarning: X does not have valid feature names, but RandomForestClassifier was fitted with feature names\n",
            "  \"X does not have valid feature names, but\"\n"
          ]
        },
        {
          "output_type": "execute_result",
          "data": {
            "text/plain": [
              "0.8880796309783928"
            ]
          },
          "metadata": {},
          "execution_count": 72
        }
      ]
    },
    {
      "cell_type": "code",
      "source": [
        "accuracy_test_svc = accuracy_score(y_test,y_pred)"
      ],
      "metadata": {
        "id": "JDcXUQ-Xizn2"
      },
      "execution_count": null,
      "outputs": []
    },
    {
      "cell_type": "code",
      "source": [
        "from sklearn.metrics import classification_report\n",
        "\n",
        "print(classification_report(y_test, y_pred))"
      ],
      "metadata": {
        "colab": {
          "base_uri": "https://localhost:8080/"
        },
        "id": "0HYVwgpycpWk",
        "outputId": "d4e26fa3-eefa-4dab-f693-8f095ec5f7c7"
      },
      "execution_count": null,
      "outputs": [
        {
          "output_type": "stream",
          "name": "stdout",
          "text": [
            "              precision    recall  f1-score   support\n",
            "\n",
            "          no       0.89      1.00      0.94     10969\n",
            "         yes       0.59      0.01      0.02      1388\n",
            "\n",
            "    accuracy                           0.89     12357\n",
            "   macro avg       0.74      0.51      0.48     12357\n",
            "weighted avg       0.85      0.89      0.84     12357\n",
            "\n"
          ]
        }
      ]
    },
    {
      "cell_type": "markdown",
      "source": [
        "##**Q.4 Inference from the model**\n",
        "\n",
        "---\n",
        "\n"
      ],
      "metadata": {
        "id": "UJwSJbtVg8fZ"
      }
    },
    {
      "cell_type": "code",
      "source": [
        "d=[['Logistic Regression',accuracy_test],['AdaBoost',\n",
        "accuracy_test_ada],['Naive bayes',accuracy_test_nb],['KNN',accuracy_test_knn],['SVM',accuracy_test_svc]]\n",
        "df1 = pd.DataFrame(d, columns = ['Model','Test_Accuracy'])\n",
        "print(df1)"
      ],
      "metadata": {
        "colab": {
          "base_uri": "https://localhost:8080/"
        },
        "id": "lB9nOcrjglug",
        "outputId": "621b7168-27b2-4ebb-bb15-2be9dc530214"
      },
      "execution_count": null,
      "outputs": [
        {
          "output_type": "stream",
          "name": "stdout",
          "text": [
            "                 Model  Test_Accuracy\n",
            "0  Logistic Regression       0.868981\n",
            "1             AdaBoost       0.778992\n",
            "2          Naive bayes       0.778992\n",
            "3                  KNN       0.778992\n",
            "4                  SVM       0.888080\n"
          ]
        }
      ]
    },
    {
      "cell_type": "markdown",
      "source": [
        "From the above Accuracy report, ***SVM classifier*** has the highest accuracy than other models."
      ],
      "metadata": {
        "id": "WN7HD5NajEYk"
      }
    },
    {
      "cell_type": "code",
      "source": [
        "from sklearn.metrics import confusion_matrix\n",
        "confusion_matrix(y_test,y_pred)"
      ],
      "metadata": {
        "colab": {
          "base_uri": "https://localhost:8080/"
        },
        "id": "CR7uTNNEjWno",
        "outputId": "f564dd5c-2039-454d-acfc-6dbe0651bb2b"
      },
      "execution_count": null,
      "outputs": [
        {
          "output_type": "execute_result",
          "data": {
            "text/plain": [
              "array([[10957,    12],\n",
              "       [ 1371,    17]])"
            ]
          },
          "metadata": {},
          "execution_count": 87
        }
      ]
    },
    {
      "cell_type": "markdown",
      "source": [
        "***The TruePostive rate for this SVM Classifier is 10957 and the true negative rate is also low when compared to other models***"
      ],
      "metadata": {
        "id": "kTLIULIRj0gH"
      }
    },
    {
      "cell_type": "code",
      "source": [
        "from sklearn import metrics\n",
        "cm=metrics.confusion_matrix(y_test,y_pred)\n",
        "\n",
        "df_cm = pd.DataFrame(cm, index = [i for i in [\"yes\",\"no\"]],\n",
        "                  columns = [i for i in [\"Predict 1\",\"Predict 0\"]])\n",
        "plt.figure(figsize = (7,5))\n",
        "sns.heatmap(df_cm,annot=True,fmt='g')"
      ],
      "metadata": {
        "colab": {
          "base_uri": "https://localhost:8080/",
          "height": 337
        },
        "id": "sdLwMZsUjfVC",
        "outputId": "cb03acce-86f4-4f14-92a9-aaeb376e6ca5"
      },
      "execution_count": null,
      "outputs": [
        {
          "output_type": "execute_result",
          "data": {
            "text/plain": [
              "<matplotlib.axes._subplots.AxesSubplot at 0x7f0022d1b790>"
            ]
          },
          "metadata": {},
          "execution_count": 89
        },
        {
          "output_type": "display_data",
          "data": {
            "text/plain": [
              "<Figure size 504x360 with 2 Axes>"
            ],
            "image/png": "[encoded data removed]"
          },
          "metadata": {}
        }
      ]
    }
  ]
}